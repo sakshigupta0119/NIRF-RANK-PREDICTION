{
 "cells": [
  {
   "cell_type": "code",
   "execution_count": 75,
   "metadata": {
    "colab": {},
    "colab_type": "code",
    "id": "40g91DW5HUEB"
   },
   "outputs": [],
   "source": [
    "import pandas as pd\n"
   ]
  },
  {
   "cell_type": "code",
   "execution_count": 76,
   "metadata": {
    "colab": {},
    "colab_type": "code",
    "id": "ombz4u10HUET"
   },
   "outputs": [],
   "source": [
    "dataset=pd.read_csv('college_dataset.csv')"
   ]
  },
  {
   "cell_type": "code",
   "execution_count": 77,
   "metadata": {
    "colab": {
     "base_uri": "https://localhost:8080/",
     "height": 34
    },
    "colab_type": "code",
    "id": "NGx2qmIPHUEh",
    "outputId": "99c58714-7cab-4026-b0ab-3608e77d03df"
   },
   "outputs": [
    {
     "data": {
      "text/plain": [
       "(200, 31)"
      ]
     },
     "execution_count": 77,
     "metadata": {
      "tags": []
     },
     "output_type": "execute_result"
    }
   ],
   "source": [
    "dataset.shape"
   ]
  },
  {
   "cell_type": "code",
   "execution_count": 78,
   "metadata": {
    "colab": {
     "base_uri": "https://localhost:8080/",
     "height": 318
    },
    "colab_type": "code",
    "id": "6EXBeJ5sHUE0",
    "outputId": "bf5e9d99-2dcc-47f3-b85e-79b74ef8a778"
   },
   "outputs": [
    {
     "data": {
      "text/html": [
       "<div>\n",
       "<style scoped>\n",
       "    .dataframe tbody tr th:only-of-type {\n",
       "        vertical-align: middle;\n",
       "    }\n",
       "\n",
       "    .dataframe tbody tr th {\n",
       "        vertical-align: top;\n",
       "    }\n",
       "\n",
       "    .dataframe thead th {\n",
       "        text-align: right;\n",
       "    }\n",
       "</style>\n",
       "<table border=\"1\" class=\"dataframe\">\n",
       "  <thead>\n",
       "    <tr style=\"text-align: right;\">\n",
       "      <th></th>\n",
       "      <th>NIRF Rank</th>\n",
       "      <th>institute_id</th>\n",
       "      <th>College Name</th>\n",
       "      <th>closing rank</th>\n",
       "      <th>City</th>\n",
       "      <th>State/UT</th>\n",
       "      <th>Latitude</th>\n",
       "      <th>Longitude</th>\n",
       "      <th>score</th>\n",
       "      <th>link</th>\n",
       "      <th>Mode of Admission</th>\n",
       "      <th>Fees</th>\n",
       "      <th>Infrastructure</th>\n",
       "      <th>no. of male students</th>\n",
       "      <th>no. of female students</th>\n",
       "      <th>total students</th>\n",
       "      <th>Graduation outcome(max 100)</th>\n",
       "      <th>Outreach and inclusivity(max 100)</th>\n",
       "      <th>perception [academic peer and employers perception(max 100)]</th>\n",
       "      <th>Research, professional practice and collaborative performance(max 100)</th>\n",
       "      <th>teaching, learning and resource(max 100)</th>\n",
       "      <th>Academic Year</th>\n",
       "      <th>No. of first year students intake in the year</th>\n",
       "      <th>No. of first year students admitted the year</th>\n",
       "      <th>Academic Year in</th>\n",
       "      <th>No. of students admitted through Lateral entry</th>\n",
       "      <th>Academic Year.1</th>\n",
       "      <th>No. of students graduating in minimum stipulated time</th>\n",
       "      <th>No. of students placed</th>\n",
       "      <th>Median salary of placed graduates(Amount Rs.)</th>\n",
       "      <th>No. of students selected for Higher in Studies</th>\n",
       "    </tr>\n",
       "  </thead>\n",
       "  <tbody>\n",
       "    <tr>\n",
       "      <th>0</th>\n",
       "      <td>1</td>\n",
       "      <td>IR-E-U-0456</td>\n",
       "      <td>Indian Institute of Technology Madras</td>\n",
       "      <td>188</td>\n",
       "      <td>Chennai</td>\n",
       "      <td>Tamil Nadu</td>\n",
       "      <td>12.991493</td>\n",
       "      <td>80.233691</td>\n",
       "      <td>89.93</td>\n",
       "      <td>https://nirfcdn.azureedge.net/2020/pdf/Enginee...</td>\n",
       "      <td>JEE Advanced</td>\n",
       "      <td>8.82</td>\n",
       "      <td>4.6</td>\n",
       "      <td>1814</td>\n",
       "      <td>272</td>\n",
       "      <td>2086</td>\n",
       "      <td>83.9</td>\n",
       "      <td>61.31</td>\n",
       "      <td>100.00</td>\n",
       "      <td>94.64</td>\n",
       "      <td>95.42</td>\n",
       "      <td>2015-16</td>\n",
       "      <td>466</td>\n",
       "      <td>458</td>\n",
       "      <td>2016-17</td>\n",
       "      <td>0</td>\n",
       "      <td>2018-19</td>\n",
       "      <td>362</td>\n",
       "      <td>268</td>\n",
       "      <td>1360000</td>\n",
       "      <td>66</td>\n",
       "    </tr>\n",
       "    <tr>\n",
       "      <th>1</th>\n",
       "      <td>20</td>\n",
       "      <td>IR-E-U-0436</td>\n",
       "      <td>Amrita School of Engineering</td>\n",
       "      <td>19971</td>\n",
       "      <td>Amritapuri</td>\n",
       "      <td>Kerala</td>\n",
       "      <td>34.367641</td>\n",
       "      <td>-89.539148</td>\n",
       "      <td>57.37</td>\n",
       "      <td>https://nirfcdn.azureedge.net/2020/pdf/Enginee...</td>\n",
       "      <td>AEEE</td>\n",
       "      <td>12.10</td>\n",
       "      <td>4.2</td>\n",
       "      <td>7011</td>\n",
       "      <td>1949</td>\n",
       "      <td>8960</td>\n",
       "      <td>59.0</td>\n",
       "      <td>60.07</td>\n",
       "      <td>28.01</td>\n",
       "      <td>56.76</td>\n",
       "      <td>65.77</td>\n",
       "      <td>2015-16</td>\n",
       "      <td>2040</td>\n",
       "      <td>2150</td>\n",
       "      <td>2016-17</td>\n",
       "      <td>0</td>\n",
       "      <td>2018-19</td>\n",
       "      <td>1768</td>\n",
       "      <td>1199</td>\n",
       "      <td>400000</td>\n",
       "      <td>343</td>\n",
       "    </tr>\n",
       "  </tbody>\n",
       "</table>\n",
       "</div>"
      ],
      "text/plain": [
       "   NIRF Rank  ... No. of students selected for Higher in Studies\n",
       "0          1  ...                                             66\n",
       "1         20  ...                                            343\n",
       "\n",
       "[2 rows x 31 columns]"
      ]
     },
     "execution_count": 78,
     "metadata": {
      "tags": []
     },
     "output_type": "execute_result"
    }
   ],
   "source": [
    "dataset.head(2)"
   ]
  },
  {
   "cell_type": "code",
   "execution_count": 79,
   "metadata": {
    "colab": {
     "base_uri": "https://localhost:8080/",
     "height": 402
    },
    "colab_type": "code",
    "id": "b3bWc2adHUFC",
    "outputId": "7b9ddc0f-8332-41a8-841f-ca702fad63a3"
   },
   "outputs": [
    {
     "data": {
      "text/html": [
       "<div>\n",
       "<style scoped>\n",
       "    .dataframe tbody tr th:only-of-type {\n",
       "        vertical-align: middle;\n",
       "    }\n",
       "\n",
       "    .dataframe tbody tr th {\n",
       "        vertical-align: top;\n",
       "    }\n",
       "\n",
       "    .dataframe thead th {\n",
       "        text-align: right;\n",
       "    }\n",
       "</style>\n",
       "<table border=\"1\" class=\"dataframe\">\n",
       "  <thead>\n",
       "    <tr style=\"text-align: right;\">\n",
       "      <th></th>\n",
       "      <th>NIRF Rank</th>\n",
       "      <th>closing rank</th>\n",
       "      <th>Latitude</th>\n",
       "      <th>Longitude</th>\n",
       "      <th>score</th>\n",
       "      <th>Fees</th>\n",
       "      <th>Infrastructure</th>\n",
       "      <th>no. of male students</th>\n",
       "      <th>no. of female students</th>\n",
       "      <th>total students</th>\n",
       "      <th>Graduation outcome(max 100)</th>\n",
       "      <th>Outreach and inclusivity(max 100)</th>\n",
       "      <th>perception [academic peer and employers perception(max 100)]</th>\n",
       "      <th>Research, professional practice and collaborative performance(max 100)</th>\n",
       "      <th>teaching, learning and resource(max 100)</th>\n",
       "      <th>No. of first year students intake in the year</th>\n",
       "      <th>No. of first year students admitted the year</th>\n",
       "      <th>No. of students admitted through Lateral entry</th>\n",
       "      <th>No. of students graduating in minimum stipulated time</th>\n",
       "      <th>No. of students placed</th>\n",
       "      <th>Median salary of placed graduates(Amount Rs.)</th>\n",
       "      <th>No. of students selected for Higher in Studies</th>\n",
       "    </tr>\n",
       "  </thead>\n",
       "  <tbody>\n",
       "    <tr>\n",
       "      <th>count</th>\n",
       "      <td>200.000000</td>\n",
       "      <td>2.000000e+02</td>\n",
       "      <td>200.000000</td>\n",
       "      <td>200.000000</td>\n",
       "      <td>200.000000</td>\n",
       "      <td>200.000000</td>\n",
       "      <td>200.000000</td>\n",
       "      <td>200.000000</td>\n",
       "      <td>200.000000</td>\n",
       "      <td>200.000000</td>\n",
       "      <td>200.00000</td>\n",
       "      <td>200.000000</td>\n",
       "      <td>200.000000</td>\n",
       "      <td>200.000000</td>\n",
       "      <td>200.000000</td>\n",
       "      <td>200.000000</td>\n",
       "      <td>200.000000</td>\n",
       "      <td>200.000000</td>\n",
       "      <td>200.000000</td>\n",
       "      <td>200.00000</td>\n",
       "      <td>2.000000e+02</td>\n",
       "      <td>200.000000</td>\n",
       "    </tr>\n",
       "    <tr>\n",
       "      <th>mean</th>\n",
       "      <td>100.490000</td>\n",
       "      <td>6.425589e+04</td>\n",
       "      <td>20.260253</td>\n",
       "      <td>75.581627</td>\n",
       "      <td>41.758350</td>\n",
       "      <td>6.204900</td>\n",
       "      <td>4.101500</td>\n",
       "      <td>2540.405000</td>\n",
       "      <td>954.505000</td>\n",
       "      <td>3483.470000</td>\n",
       "      <td>56.48880</td>\n",
       "      <td>51.873700</td>\n",
       "      <td>14.214650</td>\n",
       "      <td>20.307350</td>\n",
       "      <td>59.050150</td>\n",
       "      <td>846.880000</td>\n",
       "      <td>812.055000</td>\n",
       "      <td>72.955000</td>\n",
       "      <td>776.945000</td>\n",
       "      <td>541.25500</td>\n",
       "      <td>5.569061e+05</td>\n",
       "      <td>86.695000</td>\n",
       "    </tr>\n",
       "    <tr>\n",
       "      <th>std</th>\n",
       "      <td>57.870067</td>\n",
       "      <td>1.605074e+05</td>\n",
       "      <td>6.888953</td>\n",
       "      <td>23.902263</td>\n",
       "      <td>11.725059</td>\n",
       "      <td>3.683286</td>\n",
       "      <td>0.465976</td>\n",
       "      <td>2381.195209</td>\n",
       "      <td>977.574087</td>\n",
       "      <td>3120.438593</td>\n",
       "      <td>11.74744</td>\n",
       "      <td>6.853437</td>\n",
       "      <td>19.262625</td>\n",
       "      <td>19.937026</td>\n",
       "      <td>10.152778</td>\n",
       "      <td>769.306041</td>\n",
       "      <td>724.085042</td>\n",
       "      <td>90.888761</td>\n",
       "      <td>672.794735</td>\n",
       "      <td>506.96459</td>\n",
       "      <td>3.095260e+05</td>\n",
       "      <td>96.033139</td>\n",
       "    </tr>\n",
       "    <tr>\n",
       "      <th>min</th>\n",
       "      <td>1.000000</td>\n",
       "      <td>1.880000e+02</td>\n",
       "      <td>8.545851</td>\n",
       "      <td>-92.021094</td>\n",
       "      <td>31.090000</td>\n",
       "      <td>1.000000</td>\n",
       "      <td>2.300000</td>\n",
       "      <td>0.000000</td>\n",
       "      <td>12.000000</td>\n",
       "      <td>105.000000</td>\n",
       "      <td>1.00000</td>\n",
       "      <td>33.800000</td>\n",
       "      <td>0.000000</td>\n",
       "      <td>0.460000</td>\n",
       "      <td>35.510000</td>\n",
       "      <td>0.000000</td>\n",
       "      <td>0.000000</td>\n",
       "      <td>0.000000</td>\n",
       "      <td>0.000000</td>\n",
       "      <td>0.00000</td>\n",
       "      <td>0.000000e+00</td>\n",
       "      <td>0.000000</td>\n",
       "    </tr>\n",
       "    <tr>\n",
       "      <th>25%</th>\n",
       "      <td>50.750000</td>\n",
       "      <td>6.940500e+03</td>\n",
       "      <td>13.051490</td>\n",
       "      <td>76.594527</td>\n",
       "      <td>33.522500</td>\n",
       "      <td>3.320000</td>\n",
       "      <td>3.900000</td>\n",
       "      <td>1110.750000</td>\n",
       "      <td>302.250000</td>\n",
       "      <td>1555.250000</td>\n",
       "      <td>50.11250</td>\n",
       "      <td>47.360000</td>\n",
       "      <td>2.557500</td>\n",
       "      <td>5.397500</td>\n",
       "      <td>52.535000</td>\n",
       "      <td>399.500000</td>\n",
       "      <td>364.750000</td>\n",
       "      <td>0.000000</td>\n",
       "      <td>361.250000</td>\n",
       "      <td>233.00000</td>\n",
       "      <td>3.600000e+05</td>\n",
       "      <td>26.750000</td>\n",
       "    </tr>\n",
       "    <tr>\n",
       "      <th>50%</th>\n",
       "      <td>100.500000</td>\n",
       "      <td>2.262500e+04</td>\n",
       "      <td>19.638665</td>\n",
       "      <td>77.671479</td>\n",
       "      <td>37.560000</td>\n",
       "      <td>5.510000</td>\n",
       "      <td>4.200000</td>\n",
       "      <td>2286.500000</td>\n",
       "      <td>663.500000</td>\n",
       "      <td>3043.000000</td>\n",
       "      <td>55.07000</td>\n",
       "      <td>51.855000</td>\n",
       "      <td>6.650000</td>\n",
       "      <td>13.350000</td>\n",
       "      <td>57.525000</td>\n",
       "      <td>743.000000</td>\n",
       "      <td>720.000000</td>\n",
       "      <td>41.500000</td>\n",
       "      <td>693.500000</td>\n",
       "      <td>477.00000</td>\n",
       "      <td>4.240000e+05</td>\n",
       "      <td>62.000000</td>\n",
       "    </tr>\n",
       "    <tr>\n",
       "      <th>75%</th>\n",
       "      <td>150.250000</td>\n",
       "      <td>4.600000e+04</td>\n",
       "      <td>26.267202</td>\n",
       "      <td>80.107307</td>\n",
       "      <td>46.775000</td>\n",
       "      <td>8.620000</td>\n",
       "      <td>4.400000</td>\n",
       "      <td>3088.250000</td>\n",
       "      <td>1325.000000</td>\n",
       "      <td>4255.500000</td>\n",
       "      <td>63.09500</td>\n",
       "      <td>56.002500</td>\n",
       "      <td>17.790000</td>\n",
       "      <td>30.642500</td>\n",
       "      <td>64.392500</td>\n",
       "      <td>1020.000000</td>\n",
       "      <td>988.500000</td>\n",
       "      <td>130.000000</td>\n",
       "      <td>956.250000</td>\n",
       "      <td>693.75000</td>\n",
       "      <td>6.500000e+05</td>\n",
       "      <td>116.500000</td>\n",
       "    </tr>\n",
       "    <tr>\n",
       "      <th>max</th>\n",
       "      <td>200.000000</td>\n",
       "      <td>1.231790e+06</td>\n",
       "      <td>36.078100</td>\n",
       "      <td>93.912680</td>\n",
       "      <td>89.930000</td>\n",
       "      <td>16.000000</td>\n",
       "      <td>5.000000</td>\n",
       "      <td>19206.000000</td>\n",
       "      <td>7256.000000</td>\n",
       "      <td>23144.000000</td>\n",
       "      <td>89.65000</td>\n",
       "      <td>75.700000</td>\n",
       "      <td>100.000000</td>\n",
       "      <td>96.150000</td>\n",
       "      <td>95.420000</td>\n",
       "      <td>6220.000000</td>\n",
       "      <td>5260.000000</td>\n",
       "      <td>471.000000</td>\n",
       "      <td>4708.000000</td>\n",
       "      <td>4139.00000</td>\n",
       "      <td>2.000000e+06</td>\n",
       "      <td>897.000000</td>\n",
       "    </tr>\n",
       "  </tbody>\n",
       "</table>\n",
       "</div>"
      ],
      "text/plain": [
       "        NIRF Rank  ...  No. of students selected for Higher in Studies\n",
       "count  200.000000  ...                                      200.000000\n",
       "mean   100.490000  ...                                       86.695000\n",
       "std     57.870067  ...                                       96.033139\n",
       "min      1.000000  ...                                        0.000000\n",
       "25%     50.750000  ...                                       26.750000\n",
       "50%    100.500000  ...                                       62.000000\n",
       "75%    150.250000  ...                                      116.500000\n",
       "max    200.000000  ...                                      897.000000\n",
       "\n",
       "[8 rows x 22 columns]"
      ]
     },
     "execution_count": 79,
     "metadata": {
      "tags": []
     },
     "output_type": "execute_result"
    }
   ],
   "source": [
    "dataset.describe()"
   ]
  },
  {
   "cell_type": "code",
   "execution_count": 80,
   "metadata": {
    "colab": {
     "base_uri": "https://localhost:8080/",
     "height": 663
    },
    "colab_type": "code",
    "id": "NMURDKk-HUFS",
    "outputId": "ca1f51e5-e5cf-4917-da8c-dd05daca8ec7"
   },
   "outputs": [
    {
     "name": "stdout",
     "output_type": "stream",
     "text": [
      "<class 'pandas.core.frame.DataFrame'>\n",
      "RangeIndex: 200 entries, 0 to 199\n",
      "Data columns (total 31 columns):\n",
      " #   Column                                                                  Non-Null Count  Dtype  \n",
      "---  ------                                                                  --------------  -----  \n",
      " 0   NIRF Rank                                                               200 non-null    int64  \n",
      " 1   institute_id                                                            200 non-null    object \n",
      " 2   College Name                                                            200 non-null    object \n",
      " 3   closing rank                                                            200 non-null    int64  \n",
      " 4   City                                                                    200 non-null    object \n",
      " 5   State/UT                                                                200 non-null    object \n",
      " 6   Latitude                                                                200 non-null    float64\n",
      " 7   Longitude                                                               200 non-null    float64\n",
      " 8   score                                                                   200 non-null    float64\n",
      " 9   link                                                                    200 non-null    object \n",
      " 10  Mode of Admission                                                       200 non-null    object \n",
      " 11  Fees                                                                    200 non-null    float64\n",
      " 12  Infrastructure                                                          200 non-null    float64\n",
      " 13  no. of male students                                                    200 non-null    int64  \n",
      " 14  no. of female students                                                  200 non-null    int64  \n",
      " 15  total students                                                          200 non-null    int64  \n",
      " 16  Graduation outcome(max 100)                                             200 non-null    float64\n",
      " 17  Outreach and inclusivity(max 100)                                       200 non-null    float64\n",
      " 18  perception [academic peer and employers perception(max 100)]            200 non-null    float64\n",
      " 19  Research, professional practice and collaborative performance(max 100)  200 non-null    float64\n",
      " 20  teaching, learning and resource(max 100)                                200 non-null    float64\n",
      " 21  Academic Year                                                           200 non-null    object \n",
      " 22  No. of first year students intake in the year                           200 non-null    int64  \n",
      " 23  No. of first year students admitted the year                            200 non-null    int64  \n",
      " 24  Academic Year in                                                        200 non-null    object \n",
      " 25  No. of students admitted through Lateral entry                          200 non-null    int64  \n",
      " 26  Academic Year.1                                                         200 non-null    object \n",
      " 27  No. of students graduating in minimum stipulated time                   200 non-null    int64  \n",
      " 28  No. of students placed                                                  200 non-null    int64  \n",
      " 29  Median salary of placed graduates(Amount Rs.)                           200 non-null    int64  \n",
      " 30  No. of students selected for Higher in Studies                          200 non-null    int64  \n",
      "dtypes: float64(10), int64(12), object(9)\n",
      "memory usage: 48.6+ KB\n"
     ]
    }
   ],
   "source": [
    "dataset.info()"
   ]
  },
  {
   "cell_type": "code",
   "execution_count": 81,
   "metadata": {
    "colab": {
     "base_uri": "https://localhost:8080/",
     "height": 1000
    },
    "colab_type": "code",
    "id": "_U5nuMi-HUFh",
    "outputId": "6e5b415b-4c5e-47e0-8089-5dce6c838f34"
   },
   "outputs": [
    {
     "data": {
      "image/png": "[encoded data removed]",
      "text/plain": [
       "<Figure size 432x288 with 1 Axes>"
      ]
     },
     "metadata": {
      "needs_background": "light",
      "tags": []
     },
     "output_type": "display_data"
    },
    {
     "data": {
      "image/png": "[encoded data removed]",
      "text/plain": [
       "<Figure size 432x288 with 1 Axes>"
      ]
     },
     "metadata": {
      "needs_background": "light",
      "tags": []
     },
     "output_type": "display_data"
    },
    {
     "data": {
      "image/png": "[encoded data removed]",
      "text/plain": [
       "<Figure size 432x288 with 1 Axes>"
      ]
     },
     "metadata": {
      "needs_background": "light",
      "tags": []
     },
     "output_type": "display_data"
    },
    {
     "data": {
      "image/png": "[encoded data removed]",
      "text/plain": [
       "<Figure size 432x288 with 1 Axes>"
      ]
     },
     "metadata": {
      "needs_background": "light",
      "tags": []
     },
     "output_type": "display_data"
    },
    {
     "data": {
      "image/png": "[encoded data removed]",
      "text/plain": [
       "<Figure size 432x288 with 1 Axes>"
      ]
     },
     "metadata": {
      "needs_background": "light",
      "tags": []
     },
     "output_type": "display_data"
    }
   ],
   "source": [
    "import matplotlib.pyplot as plt\n",
    "import seaborn as sns\n",
    "\n",
    "\n",
    "fig = sns.distplot(dataset['Research, professional practice and collaborative performance(max 100)'], kde=False)\n",
    "plt.title(\"Distribution of Research, professional practice and collaborative performance(max 100)\")\n",
    "plt.show()\n",
    "\n",
    "fig = sns.distplot(dataset['teaching, learning and resource(max 100)'], kde=False)\n",
    "plt.title(\"teaching, learning and resource(max 100)\")\n",
    "plt.show()\n",
    "\n",
    "fig = sns.distplot(dataset['perception [academic peer and employers perception(max 100)]'], kde=False)\n",
    "plt.title(\"Distribution of perception [academic peer and employers perception(max 100)]\")\n",
    "plt.show()\n",
    "\n",
    "fig = sns.distplot(dataset['Outreach and inclusivity(max 100)'], kde=False)\n",
    "plt.title(\"Distribution of Outreach and inclusivity(max 100)\")\n",
    "plt.show()\n",
    "\n",
    "fig = sns.distplot(dataset['Graduation outcome(max 100)'], kde=False)\n",
    "plt.title(\"Distribution of Graduation outcome(max 100)\")\n",
    "plt.show()\n",
    "\n",
    "plt.show()"
   ]
  },
  {
   "cell_type": "code",
   "execution_count": 82,
   "metadata": {
    "colab": {
     "base_uri": "https://localhost:8080/",
     "height": 289
    },
    "colab_type": "code",
    "id": "Q53S6hHUHUF_",
    "outputId": "03dfb159-eec6-48c1-c544-f684f0904423"
   },
   "outputs": [
    {
     "data": {
      "text/plain": [
       "Index(['NIRF Rank', 'institute_id', 'College Name', 'closing rank', 'City',\n",
       "       'State/UT', 'Latitude', 'Longitude', 'score', 'link',\n",
       "       'Mode of Admission', 'Fees', 'Infrastructure', 'no. of male students',\n",
       "       'no. of female students', 'total students',\n",
       "       'Graduation outcome(max 100)', 'Outreach and inclusivity(max 100)',\n",
       "       'perception [academic peer and employers perception(max 100)]',\n",
       "       'Research, professional practice and collaborative performance(max 100)',\n",
       "       'teaching, learning and resource(max 100)', 'Academic Year',\n",
       "       'No. of first year students intake in the year',\n",
       "       'No. of first year students admitted the year', 'Academic Year in',\n",
       "       'No. of students admitted through Lateral entry', 'Academic Year.1',\n",
       "       'No. of students graduating in minimum stipulated time',\n",
       "       'No. of students placed',\n",
       "       'Median salary of placed graduates(Amount Rs.)',\n",
       "       'No. of students selected for Higher in Studies'],\n",
       "      dtype='object')"
      ]
     },
     "execution_count": 82,
     "metadata": {
      "tags": []
     },
     "output_type": "execute_result"
    }
   ],
   "source": [
    "dataset.columns"
   ]
  },
  {
   "cell_type": "code",
   "execution_count": 86,
   "metadata": {
    "colab": {
     "base_uri": "https://localhost:8080/",
     "height": 221
    },
    "colab_type": "code",
    "id": "xvRdxz9VzrF2",
    "outputId": "92c0824d-4a30-4dce-be83-11ff38299960"
   },
   "outputs": [
    {
     "data": {
      "text/plain": [
       "145    2\n",
       "160    2\n",
       "200    1\n",
       "62     1\n",
       "71     1\n",
       "      ..\n",
       "129    1\n",
       "128    1\n",
       "127    1\n",
       "126    1\n",
       "1      1\n",
       "Name: NIRF Rank, Length: 198, dtype: int64"
      ]
     },
     "execution_count": 86,
     "metadata": {
      "tags": []
     },
     "output_type": "execute_result"
    }
   ],
   "source": [
    "df = pd.read_csv('college_dataset.csv')\n",
    "df['NIRF Rank'].value_counts()"
   ]
  },
  {
   "cell_type": "code",
   "execution_count": 99,
   "metadata": {
    "colab": {
     "base_uri": "https://localhost:8080/",
     "height": 296
    },
    "colab_type": "code",
    "id": "QRoFagNKy8kX",
    "outputId": "0279a342-d684-488c-e4ed-dd08afa905c5"
   },
   "outputs": [
    {
     "data": {
      "text/plain": [
       "<matplotlib.axes._subplots.AxesSubplot at 0x7f1eb53ca7f0>"
      ]
     },
     "execution_count": 99,
     "metadata": {
      "tags": []
     },
     "output_type": "execute_result"
    },
    {
     "data": {
      "image/png": "[encoded data removed]",
      "text/plain": [
       "<Figure size 432x288 with 1 Axes>"
      ]
     },
     "metadata": {
      "needs_background": "light",
      "tags": []
     },
     "output_type": "display_data"
    }
   ],
   "source": [
    "import seaborn as sns\n",
    "sns.color_palette(\"Paired\")\n",
    "sns.distplot(df['score'], color = 'blue')\n",
    "\n",
    "\n",
    "sns.color_palette(\"Paired\")\n",
    "sns.distplot(df['Fees'], color = 'brown')\n"
   ]
  },
  {
   "cell_type": "code",
   "execution_count": 95,
   "metadata": {
    "colab": {
     "base_uri": "https://localhost:8080/",
     "height": 296
    },
    "colab_type": "code",
    "id": "nxrMLoTY0Nex",
    "outputId": "52262b09-db56-4049-a1ec-38b58a89727b"
   },
   "outputs": [
    {
     "data": {
      "text/plain": [
       "<matplotlib.axes._subplots.AxesSubplot at 0x7f1eb5bac128>"
      ]
     },
     "execution_count": 95,
     "metadata": {
      "tags": []
     },
     "output_type": "execute_result"
    },
    {
     "data": {
      "image/png": "[encoded data removed]",
      "text/plain": [
       "<Figure size 432x288 with 1 Axes>"
      ]
     },
     "metadata": {
      "needs_background": "light",
      "tags": []
     },
     "output_type": "display_data"
    }
   ],
   "source": [
    "sns.barplot(x = 'Fees', y = 'NIRF Rank', data = df)"
   ]
  },
  {
   "cell_type": "code",
   "execution_count": 101,
   "metadata": {
    "colab": {
     "base_uri": "https://localhost:8080/",
     "height": 458
    },
    "colab_type": "code",
    "id": "1rRu-XWs0Yxc",
    "outputId": "d8eb5eea-42e0-4ba9-adcc-3600038e133e"
   },
   "outputs": [
    {
     "data": {
      "text/plain": [
       "<seaborn.axisgrid.JointGrid at 0x7f1eb51db128>"
      ]
     },
     "execution_count": 101,
     "metadata": {
      "tags": []
     },
     "output_type": "execute_result"
    },
    {
     "data": {
      "image/png": "[encoded data removed]",
      "text/plain": [
       "<Figure size 432x432 with 3 Axes>"
      ]
     },
     "metadata": {
      "needs_background": "light",
      "tags": []
     },
     "output_type": "display_data"
    }
   ],
   "source": [
    "sns.jointplot(x = 'total students', y = 'No. of students placed', color = 'darkblue', data = df)"
   ]
  },
  {
   "cell_type": "code",
   "execution_count": 97,
   "metadata": {
    "colab": {
     "base_uri": "https://localhost:8080/",
     "height": 458
    },
    "colab_type": "code",
    "id": "fmB1gcdR0iJU",
    "outputId": "0788ca4f-9bc4-4880-da26-30d7061a511b"
   },
   "outputs": [
    {
     "data": {
      "text/plain": [
       "<seaborn.axisgrid.JointGrid at 0x7f1eb5559c88>"
      ]
     },
     "execution_count": 97,
     "metadata": {
      "tags": []
     },
     "output_type": "execute_result"
    },
    {
     "data": {
      "image/png": "[encoded data removed]",
      "text/plain": [
       "<Figure size 432x432 with 3 Axes>"
      ]
     },
     "metadata": {
      "needs_background": "light",
      "tags": []
     },
     "output_type": "display_data"
    }
   ],
   "source": [
    "sns.jointplot(x = 'Infrastructure' , y = 'NIRF Rank', kind = 'kde', data = df, color = 'pink')"
   ]
  },
  {
   "cell_type": "code",
   "execution_count": 103,
   "metadata": {
    "colab": {
     "base_uri": "https://localhost:8080/",
     "height": 458
    },
    "colab_type": "code",
    "id": "dlkvOl3b1pgX",
    "outputId": "4f4965a4-644f-41ab-8121-74ef66d5a6b0"
   },
   "outputs": [
    {
     "data": {
      "text/plain": [
       "<seaborn.axisgrid.JointGrid at 0x7f1eb4f6e780>"
      ]
     },
     "execution_count": 103,
     "metadata": {
      "tags": []
     },
     "output_type": "execute_result"
    },
    {
     "data": {
      "image/png": "[encoded data removed]",
      "text/plain": [
       "<Figure size 432x432 with 3 Axes>"
      ]
     },
     "metadata": {
      "needs_background": "light",
      "tags": []
     },
     "output_type": "display_data"
    }
   ],
   "source": [
    "sns.jointplot(x = 'Fees', y = 'Infrastructure', kind = 'hex', data = df)"
   ]
  },
  {
   "cell_type": "code",
   "execution_count": 104,
   "metadata": {
    "colab": {
     "base_uri": "https://localhost:8080/",
     "height": 295
    },
    "colab_type": "code",
    "id": "e8CpjmaW2w6Y",
    "outputId": "920b6823-3113-4835-9893-6b0b4851db0a"
   },
   "outputs": [
    {
     "data": {
      "image/png": "[encoded data removed]",
      "text/plain": [
       "<Figure size 432x288 with 1 Axes>"
      ]
     },
     "metadata": {
      "needs_background": "light",
      "tags": []
     },
     "output_type": "display_data"
    }
   ],
   "source": [
    "dataset.plot(x='Graduation outcome(max 100)', y='NIRF Rank', style='o')  \n",
    "plt.title('Graduation outcome(max 100) vs NIRF Rank')  \n",
    "plt.xlabel('Graduation outcome(max 100)')  \n",
    "plt.ylabel('NIRF Rank')  \n",
    "plt.show()"
   ]
  },
  {
   "cell_type": "code",
   "execution_count": 6,
   "metadata": {
    "colab": {},
    "colab_type": "code",
    "id": "iPERNE7lHUGM"
   },
   "outputs": [],
   "source": [
    "independent_var=[ 'score','Fees', 'Infrastructure', 'no. of male students',\n",
    "       'no. of female students', 'total students',\n",
    "       'Graduation outcome(max 100)', 'Outreach and inclusivity(max 100)',\n",
    "       'perception [academic peer and employers perception(max 100)]',\n",
    "       'Research, professional practice and collaborative performance(max 100)',\n",
    "       'teaching, learning and resource(max 100)',\n",
    "       'No. of students graduating in minimum stipulated time',\n",
    "       'No. of students placed',\n",
    "       'Median salary of placed graduates(Amount Rs.)',\n",
    "       'No. of students selected for Higher in Studies']"
   ]
  },
  {
   "cell_type": "code",
   "execution_count": 7,
   "metadata": {
    "colab": {},
    "colab_type": "code",
    "id": "ouVOC4PbHUGY"
   },
   "outputs": [],
   "source": [
    "x=dataset[independent_var]\n",
    "y=dataset['NIRF Rank']"
   ]
  },
  {
   "cell_type": "code",
   "execution_count": 8,
   "metadata": {
    "colab": {},
    "colab_type": "code",
    "id": "5Xv03U4uHUGk"
   },
   "outputs": [],
   "source": [
    "import numpy as np"
   ]
  },
  {
   "cell_type": "code",
   "execution_count": 9,
   "metadata": {
    "colab": {},
    "colab_type": "code",
    "id": "GF_8rStEHUGw"
   },
   "outputs": [],
   "source": [
    "from sklearn.model_selection import train_test_split"
   ]
  },
  {
   "cell_type": "markdown",
   "metadata": {
    "colab_type": "text",
    "id": "2wF9rIEhHUG-"
   },
   "source": [
    "# LINEAR REGRESSION"
   ]
  },
  {
   "cell_type": "code",
   "execution_count": 10,
   "metadata": {
    "colab": {},
    "colab_type": "code",
    "id": "k1oM8kYhHUHC"
   },
   "outputs": [],
   "source": [
    "from sklearn.linear_model import LinearRegression"
   ]
  },
  {
   "cell_type": "code",
   "execution_count": 11,
   "metadata": {
    "colab": {},
    "colab_type": "code",
    "id": "xfA4tg7cHUHh"
   },
   "outputs": [],
   "source": [
    "x_train,x_test,y_train,y_test=train_test_split(x,y,test_size=0.2,random_state=42)"
   ]
  },
  {
   "cell_type": "code",
   "execution_count": 12,
   "metadata": {
    "colab": {},
    "colab_type": "code",
    "id": "oy8DUdbiHUH3"
   },
   "outputs": [],
   "source": [
    "regressor=LinearRegression()"
   ]
  },
  {
   "cell_type": "code",
   "execution_count": 13,
   "metadata": {
    "colab": {
     "base_uri": "https://localhost:8080/",
     "height": 34
    },
    "colab_type": "code",
    "id": "28j5FJhTHUIO",
    "outputId": "c40b84f1-40d5-4f47-ca64-5f219add0145"
   },
   "outputs": [
    {
     "data": {
      "text/plain": [
       "LinearRegression(copy_X=True, fit_intercept=True, n_jobs=None, normalize=False)"
      ]
     },
     "execution_count": 13,
     "metadata": {
      "tags": []
     },
     "output_type": "execute_result"
    }
   ],
   "source": [
    "regressor.fit(x_train,y_train)"
   ]
  },
  {
   "cell_type": "code",
   "execution_count": 14,
   "metadata": {
    "colab": {
     "base_uri": "https://localhost:8080/",
     "height": 34
    },
    "colab_type": "code",
    "id": "laWRJazoHUIo",
    "outputId": "bfe84107-4896-4168-90ec-effbccc88267"
   },
   "outputs": [
    {
     "name": "stdout",
     "output_type": "stream",
     "text": [
      "327.6169064627644\n"
     ]
    }
   ],
   "source": [
    "print(regressor.intercept_)"
   ]
  },
  {
   "cell_type": "code",
   "execution_count": 15,
   "metadata": {
    "colab": {
     "base_uri": "https://localhost:8080/",
     "height": 85
    },
    "colab_type": "code",
    "id": "mpuXR1WlHUJF",
    "outputId": "3420da40-e42b-4a8b-ba3d-fa29efba0f05"
   },
   "outputs": [
    {
     "name": "stdout",
     "output_type": "stream",
     "text": [
      "[ 1.49393227e+02 -1.13840133e+00  1.22321160e+01 -6.25173221e-03\n",
      " -3.49822887e-03  4.07288024e-03 -3.12310910e+01 -1.56847762e+01\n",
      " -1.43725226e+01 -4.62644439e+01 -4.70228044e+01  7.34326709e-04\n",
      "  1.85918190e-03  1.16571323e-07 -5.19829982e-03]\n"
     ]
    }
   ],
   "source": [
    "print(regressor.coef_)"
   ]
  },
  {
   "cell_type": "code",
   "execution_count": 16,
   "metadata": {
    "colab": {},
    "colab_type": "code",
    "id": "kNBpwTELHUJj"
   },
   "outputs": [],
   "source": [
    "y_pred=regressor.predict(x_test)"
   ]
  },
  {
   "cell_type": "code",
   "execution_count": 17,
   "metadata": {
    "colab": {
     "base_uri": "https://localhost:8080/",
     "height": 187
    },
    "colab_type": "code",
    "id": "pS7ged9fHUJ5",
    "outputId": "3e3040f0-f099-479b-b430-878721c2be18"
   },
   "outputs": [
    {
     "data": {
      "text/plain": [
       "array([  67.06144565,   65.76933839,   46.12700562,  117.00323578,\n",
       "         31.8805037 ,  138.00799357,   62.80842407,  152.05835288,\n",
       "         46.86218675,  127.21495089,   33.50091549,  130.89497806,\n",
       "        152.50196312,  119.22126001,  138.56810572,   96.40528127,\n",
       "         67.27877983,   60.25935276,   77.24214444,  120.45001345,\n",
       "         20.48380619, 1488.33069705,  114.07258479,   25.58664924,\n",
       "        129.48360402,   76.54364341,  131.08229585,  143.33358003,\n",
       "        145.55648871,  147.97821558,  163.95015191,  126.69462884,\n",
       "        129.78925852,  117.51694868,  124.17882958,  144.24014034,\n",
       "        111.06223273,  155.19179022,  -74.41533569,   28.07377694])"
      ]
     },
     "execution_count": 17,
     "metadata": {
      "tags": []
     },
     "output_type": "execute_result"
    }
   ],
   "source": [
    "y_pred"
   ]
  },
  {
   "cell_type": "code",
   "execution_count": 18,
   "metadata": {
    "colab": {},
    "colab_type": "code",
    "id": "cwq2E1f7pGE_"
   },
   "outputs": [],
   "source": [
    "df = pd.DataFrame({'Actual': y_test, 'Predicted': y_pred})\n",
    "df1 = df.head(5)"
   ]
  },
  {
   "cell_type": "code",
   "execution_count": 19,
   "metadata": {
    "colab": {
     "base_uri": "https://localhost:8080/",
     "height": 492
    },
    "colab_type": "code",
    "id": "WOTtrV1CpJsZ",
    "outputId": "db2b746f-d032-4fe8-f04f-bbe8c9067af0"
   },
   "outputs": [
    {
     "data": {
      "image/png": "[encoded data removed]",
      "text/plain": [
       "<Figure size 720x576 with 1 Axes>"
      ]
     },
     "metadata": {
      "needs_background": "light",
      "tags": []
     },
     "output_type": "display_data"
    }
   ],
   "source": [
    "df1.plot(kind='bar',figsize=(10,8))\n",
    "plt.grid(which='major', linestyle='-', linewidth='0.5', color='green')\n",
    "plt.grid(which='minor', linestyle=':', linewidth='0.5', color='black')\n",
    "plt.show()"
   ]
  },
  {
   "cell_type": "code",
   "execution_count": 20,
   "metadata": {
    "colab": {},
    "colab_type": "code",
    "id": "dxOoBCtBHUKQ"
   },
   "outputs": [],
   "source": [
    "from sklearn import metrics"
   ]
  },
  {
   "cell_type": "code",
   "execution_count": 21,
   "metadata": {
    "colab": {
     "base_uri": "https://localhost:8080/",
     "height": 34
    },
    "colab_type": "code",
    "id": "2TSBnIvtHUKs",
    "outputId": "3a3361be-ca61-4e82-cf8c-a55167c7e14a"
   },
   "outputs": [
    {
     "name": "stdout",
     "output_type": "stream",
     "text": [
      "Mean Absolute Error:  53.59768525726148\n"
     ]
    }
   ],
   "source": [
    "print('Mean Absolute Error: ',metrics.mean_absolute_error(y_test,y_pred))"
   ]
  },
  {
   "cell_type": "code",
   "execution_count": 22,
   "metadata": {
    "colab": {
     "base_uri": "https://localhost:8080/",
     "height": 34
    },
    "colab_type": "code",
    "id": "zYevUpkOHULD",
    "outputId": "3b97f708-48b2-4816-85f9-2adca353f018"
   },
   "outputs": [
    {
     "name": "stdout",
     "output_type": "stream",
     "text": [
      "Mean Squared Error:  47331.48809122702\n"
     ]
    }
   ],
   "source": [
    "print('Mean Squared Error: ',metrics.mean_squared_error(y_test,y_pred))"
   ]
  },
  {
   "cell_type": "code",
   "execution_count": 23,
   "metadata": {
    "colab": {
     "base_uri": "https://localhost:8080/",
     "height": 34
    },
    "colab_type": "code",
    "id": "cl32Ht7WHULd",
    "outputId": "46b5e4cb-8258-4923-a162-45e10c287862"
   },
   "outputs": [
    {
     "name": "stdout",
     "output_type": "stream",
     "text": [
      "root mean squared error:  217.55801086429113\n"
     ]
    }
   ],
   "source": [
    "print('root mean squared error: ',np.sqrt(metrics.mean_squared_error(y_test,y_pred)))"
   ]
  },
  {
   "cell_type": "markdown",
   "metadata": {
    "colab_type": "text",
    "id": "Qrb7lJPEHUL0"
   },
   "source": [
    "# RANDOM FOREST REGRESSOR "
   ]
  },
  {
   "cell_type": "code",
   "execution_count": 24,
   "metadata": {
    "colab": {},
    "colab_type": "code",
    "id": "lJ--NXhKHUL3"
   },
   "outputs": [],
   "source": [
    "from sklearn.ensemble import RandomForestRegressor"
   ]
  },
  {
   "cell_type": "code",
   "execution_count": 25,
   "metadata": {
    "colab": {},
    "colab_type": "code",
    "id": "rjv8O06DHUMN"
   },
   "outputs": [],
   "source": [
    "regressor=RandomForestRegressor(n_estimators=50,random_state=0)"
   ]
  },
  {
   "cell_type": "code",
   "execution_count": 26,
   "metadata": {
    "colab": {},
    "colab_type": "code",
    "id": "XWjMHvn6HUMk"
   },
   "outputs": [],
   "source": [
    "regressor.fit(x_test, y_test)\n",
    "y_pred = regressor.predict(x_test)"
   ]
  },
  {
   "cell_type": "code",
   "execution_count": 27,
   "metadata": {
    "colab": {},
    "colab_type": "code",
    "id": "DoaG2kGLqN8r"
   },
   "outputs": [],
   "source": [
    "df = pd.DataFrame({'Actual': y_test, 'Predicted': y_pred})\n",
    "df1 = df.head(5)"
   ]
  },
  {
   "cell_type": "code",
   "execution_count": 28,
   "metadata": {
    "colab": {
     "base_uri": "https://localhost:8080/",
     "height": 492
    },
    "colab_type": "code",
    "id": "vKHTy-8DqRLl",
    "outputId": "0c609a45-1503-45e0-bf26-6782d3023948"
   },
   "outputs": [
    {
     "data": {
      "image/png": "[encoded data removed]",
      "text/plain": [
       "<Figure size 720x576 with 1 Axes>"
      ]
     },
     "metadata": {
      "needs_background": "light",
      "tags": []
     },
     "output_type": "display_data"
    }
   ],
   "source": [
    "df1.plot(kind='bar',figsize=(10,8))\n",
    "plt.grid(which='major', linestyle='-', linewidth='0.5', color='green')\n",
    "plt.grid(which='minor', linestyle=':', linewidth='0.5', color='black')\n",
    "plt.show()"
   ]
  },
  {
   "cell_type": "code",
   "execution_count": null,
   "metadata": {
    "colab": {},
    "colab_type": "code",
    "id": "AaW03lXyHUM5",
    "outputId": "bd37543a-8e0d-4705-9670-638fa79ff1cf"
   },
   "outputs": [
    {
     "name": "stdout",
     "output_type": "stream",
     "text": [
      "Mean Absolute Error: 2.152500000000001\n",
      "Mean Squared Error: 7.310450000000007\n",
      "Root Mean Squared Error: 2.7037843848946252\n"
     ]
    }
   ],
   "source": [
    "print('Mean Absolute Error:', metrics.mean_absolute_error(y_test, y_pred))\n",
    "print('Mean Squared Error:', metrics.mean_squared_error(y_test, y_pred))\n",
    "print('Root Mean Squared Error:', np.sqrt(metrics.mean_squared_error(y_test, y_pred)))"
   ]
  },
  {
   "cell_type": "markdown",
   "metadata": {
    "colab_type": "text",
    "id": "VVWn3BHeHUNQ"
   },
   "source": [
    "# SUPPORT VECTOR REGRESSOR"
   ]
  },
  {
   "cell_type": "code",
   "execution_count": 33,
   "metadata": {
    "colab": {},
    "colab_type": "code",
    "id": "JmQoaM64HUNT"
   },
   "outputs": [],
   "source": [
    "from sklearn.preprocessing import StandardScaler\n",
    "from sklearn.svm import SVR\n",
    "\n",
    "sc = StandardScaler()\n",
    "train_data= sc.fit_transform(x_train)\n",
    "test_data= sc.transform(x_test)"
   ]
  },
  {
   "cell_type": "code",
   "execution_count": 34,
   "metadata": {
    "colab": {},
    "colab_type": "code",
    "id": "dKcweYDYHUNq"
   },
   "outputs": [],
   "source": [
    "svr = SVR(kernel='linear')\n",
    "svr.fit(x_train,y_train)\n",
    "y_pred=svr.predict(x_test)"
   ]
  },
  {
   "cell_type": "code",
   "execution_count": 37,
   "metadata": {
    "colab": {
     "base_uri": "https://localhost:8080/",
     "height": 68
    },
    "colab_type": "code",
    "id": "IHpMi7K1HUN_",
    "outputId": "03811cb0-4f76-4ec3-bcbc-509a0a9af1f7"
   },
   "outputs": [
    {
     "name": "stdout",
     "output_type": "stream",
     "text": [
      "Mean Absolute Error: 31636.856340868\n",
      "Mean Squared Error: 3873112982.484956\n",
      "Root Mean Squared Error: 62234.33925482744\n"
     ]
    }
   ],
   "source": [
    "print('Mean Absolute Error:', metrics.mean_absolute_error(y_test,y_pred))\n",
    "print('Mean Squared Error:', metrics.mean_squared_error(y_test,y_pred))\n",
    "print('Root Mean Squared Error:', np.sqrt(metrics.mean_squared_error(y_test,y_pred)))"
   ]
  },
  {
   "cell_type": "markdown",
   "metadata": {
    "colab_type": "text",
    "id": "mj8GQOT9HUOX"
   },
   "source": [
    "# DECISION TREE REGRESSOR"
   ]
  },
  {
   "cell_type": "code",
   "execution_count": 38,
   "metadata": {
    "colab": {},
    "colab_type": "code",
    "id": "7SOCKkzAHUOa"
   },
   "outputs": [],
   "source": [
    "from sklearn.tree import DecisionTreeRegressor"
   ]
  },
  {
   "cell_type": "code",
   "execution_count": 39,
   "metadata": {
    "colab": {},
    "colab_type": "code",
    "id": "UsMDMqvxHUOs"
   },
   "outputs": [],
   "source": [
    "regressor = DecisionTreeRegressor(max_depth=2)"
   ]
  },
  {
   "cell_type": "code",
   "execution_count": 40,
   "metadata": {
    "colab": {},
    "colab_type": "code",
    "id": "YJleWRt4HUPC"
   },
   "outputs": [],
   "source": [
    "regressor.fit(x_train, y_train)\n",
    "y_pred = regressor.predict(x_test)"
   ]
  },
  {
   "cell_type": "code",
   "execution_count": 41,
   "metadata": {
    "colab": {},
    "colab_type": "code",
    "id": "8txxKOiVsY3j"
   },
   "outputs": [],
   "source": [
    "df = pd.DataFrame({'Actual': y_test, 'Predicted': y_pred})\n",
    "df1 = df.head(5)"
   ]
  },
  {
   "cell_type": "code",
   "execution_count": 42,
   "metadata": {
    "colab": {
     "base_uri": "https://localhost:8080/",
     "height": 492
    },
    "colab_type": "code",
    "id": "eHgreKDWsc0A",
    "outputId": "00b9e79a-bc91-47f1-9aaa-8776ab31b468"
   },
   "outputs": [
    {
     "data": {
      "image/png": "[encoded data removed]",
      "text/plain": [
       "<Figure size 720x576 with 1 Axes>"
      ]
     },
     "metadata": {
      "needs_background": "light",
      "tags": []
     },
     "output_type": "display_data"
    }
   ],
   "source": [
    "df1.plot(kind='bar',figsize=(10,8))\n",
    "plt.grid(which='major', linestyle='-', linewidth='0.5', color='green')\n",
    "plt.grid(which='minor', linestyle=':', linewidth='0.5', color='black')\n",
    "plt.show()"
   ]
  },
  {
   "cell_type": "code",
   "execution_count": 43,
   "metadata": {
    "colab": {
     "base_uri": "https://localhost:8080/",
     "height": 68
    },
    "colab_type": "code",
    "id": "79PpGoVwHUPi",
    "outputId": "1a28d206-09b1-4be5-92d2-8187f6356293"
   },
   "outputs": [
    {
     "name": "stdout",
     "output_type": "stream",
     "text": [
      "Mean Absolute Error: 12.962774725274727\n",
      "Mean Squared Error: 224.9598849944317\n",
      "Root Mean Squared Error: 14.998662773541904\n"
     ]
    }
   ],
   "source": [
    "print('Mean Absolute Error:', metrics.mean_absolute_error(y_test,y_pred))\n",
    "print('Mean Squared Error:', metrics.mean_squared_error(y_test,y_pred))\n",
    "print('Root Mean Squared Error:', np.sqrt(metrics.mean_squared_error(y_test,y_pred)))"
   ]
  },
  {
   "cell_type": "code",
   "execution_count": null,
   "metadata": {
    "colab": {},
    "colab_type": "code",
    "id": "BagBQTdPHUP1"
   },
   "outputs": [],
   "source": [
    "## trial with split 80/20 with only required parametreS"
   ]
  },
  {
   "cell_type": "code",
   "execution_count": 44,
   "metadata": {
    "colab": {},
    "colab_type": "code",
    "id": "c8Kl4LHGHUQH"
   },
   "outputs": [],
   "source": [
    "indi_var=['Graduation outcome(max 100)', 'Outreach and inclusivity(max 100)',\n",
    "       'perception [academic peer and employers perception(max 100)]',\n",
    "       'Research, professional practice and collaborative performance(max 100)',\n",
    "       'teaching, learning and resource(max 100)']"
   ]
  },
  {
   "cell_type": "code",
   "execution_count": 45,
   "metadata": {
    "colab": {},
    "colab_type": "code",
    "id": "fSGssSlOHUQY"
   },
   "outputs": [],
   "source": [
    "X=dataset[indi_var]\n",
    "Y=dataset['NIRF Rank']"
   ]
  },
  {
   "cell_type": "code",
   "execution_count": 46,
   "metadata": {
    "colab": {},
    "colab_type": "code",
    "id": "z9S6girdHUQq"
   },
   "outputs": [],
   "source": [
    "x_train,x_test,y_train,y_test=train_test_split(X,Y,test_size=0.2,random_state=42)"
   ]
  },
  {
   "cell_type": "markdown",
   "metadata": {
    "colab_type": "text",
    "id": "A9_1y4RWHURD"
   },
   "source": [
    "# LINEAR REGRESSION"
   ]
  },
  {
   "cell_type": "code",
   "execution_count": 54,
   "metadata": {
    "colab": {},
    "colab_type": "code",
    "id": "7K_u4t8vHURN"
   },
   "outputs": [],
   "source": [
    "regressor=LinearRegression()"
   ]
  },
  {
   "cell_type": "code",
   "execution_count": 55,
   "metadata": {
    "colab": {
     "base_uri": "https://localhost:8080/",
     "height": 34
    },
    "colab_type": "code",
    "id": "UE2PIBgWHURf",
    "outputId": "40595163-c761-4d00-cf17-e4d8f688255c"
   },
   "outputs": [
    {
     "data": {
      "text/plain": [
       "LinearRegression(copy_X=True, fit_intercept=True, n_jobs=None, normalize=False)"
      ]
     },
     "execution_count": 55,
     "metadata": {
      "tags": []
     },
     "output_type": "execute_result"
    }
   ],
   "source": [
    "regressor.fit(x_train,y_train)"
   ]
  },
  {
   "cell_type": "code",
   "execution_count": 56,
   "metadata": {
    "colab": {
     "base_uri": "https://localhost:8080/",
     "height": 34
    },
    "colab_type": "code",
    "id": "PTKiDYWNHUR2",
    "outputId": "9b103ab1-b9ac-4b3f-9170-3b7b312c06ec"
   },
   "outputs": [
    {
     "name": "stdout",
     "output_type": "stream",
     "text": [
      "375.57517263692307\n"
     ]
    }
   ],
   "source": [
    "print(regressor.intercept_)"
   ]
  },
  {
   "cell_type": "code",
   "execution_count": 57,
   "metadata": {
    "colab": {
     "base_uri": "https://localhost:8080/",
     "height": 34
    },
    "colab_type": "code",
    "id": "8XBU1M7QHUSP",
    "outputId": "0bcadcb7-eae0-4738-a702-c9d0df7629be"
   },
   "outputs": [
    {
     "name": "stdout",
     "output_type": "stream",
     "text": [
      "[-1.37731315 -0.9961971   0.59508025 -1.5903465  -2.05938808]\n"
     ]
    }
   ],
   "source": [
    "print(regressor.coef_)"
   ]
  },
  {
   "cell_type": "code",
   "execution_count": 58,
   "metadata": {
    "colab": {},
    "colab_type": "code",
    "id": "vMhlx5REHUSn"
   },
   "outputs": [],
   "source": [
    "y_pred=regressor.predict(x_test)"
   ]
  },
  {
   "cell_type": "code",
   "execution_count": 59,
   "metadata": {
    "colab": {
     "base_uri": "https://localhost:8080/",
     "height": 187
    },
    "colab_type": "code",
    "id": "d_OsoAvjHUS8",
    "outputId": "4aea5052-82e1-4dc5-96d6-55d84fc1150e"
   },
   "outputs": [
    {
     "data": {
      "text/plain": [
       "array([ 61.07255297,  77.99778548,  43.00702006, 111.0059916 ,\n",
       "        23.35153291, 144.0228672 ,  63.06219753, 143.33544166,\n",
       "        37.26349309, 128.86324858,  31.68542587, 128.41724015,\n",
       "       149.77924829, 118.25163121, 131.61370647,  89.50143038,\n",
       "        62.84502087,  76.41074316,  72.47040495, 120.05693492,\n",
       "        19.79122294, 202.12355809, 121.50347761,  29.25758976,\n",
       "       144.01774884,  86.56916438, 142.80537148, 135.96307339,\n",
       "       142.38312689, 154.48397894, 152.88930748, 147.38116379,\n",
       "       119.08133773, 125.15443077, 134.53152565, 141.32421234,\n",
       "       115.91303826, 158.47848168, -83.34162619,  36.06293236])"
      ]
     },
     "execution_count": 59,
     "metadata": {
      "tags": []
     },
     "output_type": "execute_result"
    }
   ],
   "source": [
    "y_pred"
   ]
  },
  {
   "cell_type": "code",
   "execution_count": 60,
   "metadata": {
    "colab": {},
    "colab_type": "code",
    "id": "VVF1KDAxvL3y"
   },
   "outputs": [],
   "source": [
    "df = pd.DataFrame({'Actual': y_test, 'Predicted': y_pred})\n",
    "df1 = df.head(5)"
   ]
  },
  {
   "cell_type": "code",
   "execution_count": 63,
   "metadata": {
    "colab": {
     "base_uri": "https://localhost:8080/",
     "height": 492
    },
    "colab_type": "code",
    "id": "Anm7VU0kvRgh",
    "outputId": "4e2ae546-892b-4ac6-a890-1c47ed9fe0f8"
   },
   "outputs": [
    {
     "data": {
      "image/png": "[encoded data removed]",
      "text/plain": [
       "<Figure size 720x576 with 1 Axes>"
      ]
     },
     "metadata": {
      "needs_background": "light",
      "tags": []
     },
     "output_type": "display_data"
    }
   ],
   "source": [
    "df1.plot(kind='bar',figsize=(10,8))\n",
    "plt.grid(which='major', linestyle='-', linewidth='0.5', color='green')\n",
    "plt.grid(which='minor', linestyle=':', linewidth='0.5', color='black')\n",
    "plt.show()"
   ]
  },
  {
   "cell_type": "code",
   "execution_count": 53,
   "metadata": {
    "colab": {
     "base_uri": "https://localhost:8080/",
     "height": 68
    },
    "colab_type": "code",
    "id": "ioKo0fIeHUTM",
    "outputId": "f863037a-46df-455c-e0bc-80546e530dc7"
   },
   "outputs": [
    {
     "name": "stdout",
     "output_type": "stream",
     "text": [
      "Mean Absolute Error: 19.742847030320927\n",
      "Mean Squared Error: 762.8794263995757\n",
      "Root Mean Squared Error: 27.620272018927974\n"
     ]
    }
   ],
   "source": [
    "print('Mean Absolute Error:', metrics.mean_absolute_error(y_test,y_pred))\n",
    "print('Mean Squared Error:', metrics.mean_squared_error(y_test,y_pred))\n",
    "print('Root Mean Squared Error:', np.sqrt(metrics.mean_squared_error(y_test,y_pred)))"
   ]
  },
  {
   "cell_type": "code",
   "execution_count": null,
   "metadata": {
    "colab": {},
    "colab_type": "code",
    "id": "3GPj4DykHUTZ"
   },
   "outputs": [],
   "source": [
    "##trial with split 70/30"
   ]
  },
  {
   "cell_type": "code",
   "execution_count": null,
   "metadata": {
    "colab": {},
    "colab_type": "code",
    "id": "uGrUlyLjHUTl"
   },
   "outputs": [],
   "source": [
    "x_train,x_test,y_train,y_test=train_test_split(X,Y,test_size=0.3,random_state=42)"
   ]
  },
  {
   "cell_type": "code",
   "execution_count": null,
   "metadata": {
    "colab": {},
    "colab_type": "code",
    "id": "aispPTPwHUTy"
   },
   "outputs": [],
   "source": [
    "regressor=LinearRegression()"
   ]
  },
  {
   "cell_type": "code",
   "execution_count": null,
   "metadata": {
    "colab": {},
    "colab_type": "code",
    "id": "w-6mIwhHHUUF",
    "outputId": "e4f9268c-4def-4fb9-a57b-ec9ad59efa42"
   },
   "outputs": [
    {
     "data": {
      "text/plain": [
       "LinearRegression()"
      ]
     },
     "execution_count": 50,
     "metadata": {
      "tags": []
     },
     "output_type": "execute_result"
    }
   ],
   "source": [
    "regressor.fit(x_train,y_train)"
   ]
  },
  {
   "cell_type": "code",
   "execution_count": null,
   "metadata": {
    "colab": {},
    "colab_type": "code",
    "id": "yejqYWslHUUg",
    "outputId": "c8d87850-587f-4105-cb3f-c76d1d442d9f"
   },
   "outputs": [
    {
     "name": "stdout",
     "output_type": "stream",
     "text": [
      "367.6231973760227\n"
     ]
    }
   ],
   "source": [
    "print(regressor.intercept_)"
   ]
  },
  {
   "cell_type": "code",
   "execution_count": null,
   "metadata": {
    "colab": {},
    "colab_type": "code",
    "id": "B770rA1LHUUu",
    "outputId": "2955aa16-1df5-42a9-e904-9baa6290f4d7"
   },
   "outputs": [
    {
     "name": "stdout",
     "output_type": "stream",
     "text": [
      "[-1.24611552 -0.60636962  0.49347413 -1.60093462 -2.3613893 ]\n"
     ]
    }
   ],
   "source": [
    "print(regressor.coef_)"
   ]
  },
  {
   "cell_type": "code",
   "execution_count": null,
   "metadata": {
    "colab": {},
    "colab_type": "code",
    "id": "Ftf7V7biHUU8"
   },
   "outputs": [],
   "source": [
    "y_pred=regressor.predict(x_test)"
   ]
  },
  {
   "cell_type": "code",
   "execution_count": null,
   "metadata": {
    "colab": {},
    "colab_type": "code",
    "id": "l6uYhYFGHUVQ",
    "outputId": "9383b9a0-f528-453e-aea4-ea61733b5758"
   },
   "outputs": [
    {
     "data": {
      "text/plain": [
       "array([ 120.20348848,  134.16651634,  106.02072729,   43.34919873,\n",
       "        129.93587276,  143.51364614,   -4.49204181,  143.9227965 ,\n",
       "        116.20339318,   65.91113931,   56.99343859,   32.2217784 ,\n",
       "        119.12249101,  111.34223871,  149.27641129,  -50.20282345,\n",
       "         48.76013406,   30.86192802,  109.66781839,   98.9873421 ,\n",
       "        124.1360108 ,  150.50980392,  143.41851005,  116.11650307,\n",
       "         83.03062526,  152.19447272,  108.1795365 ,  176.27044424,\n",
       "        130.43829725,  149.41262069,  118.61594961,  152.60467385,\n",
       "        109.11052674,  151.06395246,  150.91739211,  137.05770513,\n",
       "         75.5120195 ,   25.18603269,  128.2076194 ,   30.90641525,\n",
       "        105.55448904,  154.17116987,  139.58607856,  114.77792106,\n",
       "        133.64314196,  -78.10218418,  154.27050579,  118.47441294,\n",
       "        191.91859377,  151.64014012,   51.16080279,   87.73725483,\n",
       "         25.32234591,   72.56470504, -101.5912225 ,  124.78184063,\n",
       "         64.55644304,   69.81980003,  115.04059964,   29.1028469 ])"
      ]
     },
     "execution_count": 54,
     "metadata": {
      "tags": []
     },
     "output_type": "execute_result"
    }
   ],
   "source": [
    "y_pred"
   ]
  },
  {
   "cell_type": "code",
   "execution_count": null,
   "metadata": {
    "colab": {},
    "colab_type": "code",
    "id": "WCmLYNMzHUVh",
    "outputId": "1fa1c48d-1214-431d-fc93-24a31a35321e"
   },
   "outputs": [
    {
     "name": "stdout",
     "output_type": "stream",
     "text": [
      "Mean Absolute Error: 22.822011424197918\n",
      "Mean Squared Error: 937.2264676703365\n",
      "Root Mean Squared Error: 30.614154694688803\n"
     ]
    }
   ],
   "source": [
    "print('Mean Absolute Error:', metrics.mean_absolute_error(y_test,y_pred))\n",
    "print('Mean Squared Error:', metrics.mean_squared_error(y_test,y_pred))\n",
    "print('Root Mean Squared Error:', np.sqrt(metrics.mean_squared_error(y_test,y_pred)))"
   ]
  },
  {
   "cell_type": "markdown",
   "metadata": {
    "colab_type": "text",
    "id": "LDBvUfKFHUVu"
   },
   "source": [
    "This indicates that 80-20 split gives better results"
   ]
  },
  {
   "cell_type": "markdown",
   "metadata": {
    "colab_type": "text",
    "id": "AsVkCkE7HUVx"
   },
   "source": [
    "# RANDOM FOREST REGRESSOR"
   ]
  },
  {
   "cell_type": "code",
   "execution_count": 70,
   "metadata": {
    "colab": {},
    "colab_type": "code",
    "id": "cO1Ae9zkHUVz"
   },
   "outputs": [],
   "source": [
    "regressor = DecisionTreeRegressor(max_depth=20)"
   ]
  },
  {
   "cell_type": "code",
   "execution_count": 71,
   "metadata": {
    "colab": {},
    "colab_type": "code",
    "id": "2Owv4EXYHUWA"
   },
   "outputs": [],
   "source": [
    "regressor.fit(x_train, y_train)\n",
    "y_pred = regressor.predict(x_test)"
   ]
  },
  {
   "cell_type": "code",
   "execution_count": 72,
   "metadata": {
    "colab": {},
    "colab_type": "code",
    "id": "qOeA_g51yXp6"
   },
   "outputs": [],
   "source": [
    "df = pd.DataFrame({'Actual': y_test, 'Predicted': y_pred})\n",
    "df1 = df.head(5)"
   ]
  },
  {
   "cell_type": "code",
   "execution_count": 73,
   "metadata": {
    "colab": {
     "base_uri": "https://localhost:8080/",
     "height": 492
    },
    "colab_type": "code",
    "id": "OV_rYUg7ycqn",
    "outputId": "18e3203d-a997-4f4c-800e-b70a3e7c6a7c"
   },
   "outputs": [
    {
     "data": {
      "image/png": "[encoded data removed]",
      "text/plain": [
       "<Figure size 720x576 with 1 Axes>"
      ]
     },
     "metadata": {
      "needs_background": "light",
      "tags": []
     },
     "output_type": "display_data"
    }
   ],
   "source": [
    "df1.plot(kind='bar',figsize=(10,8))\n",
    "plt.grid(which='major', linestyle='-', linewidth='0.5', color='green')\n",
    "plt.grid(which='minor', linestyle=':', linewidth='0.5', color='black')\n",
    "plt.show()"
   ]
  },
  {
   "cell_type": "code",
   "execution_count": null,
   "metadata": {
    "colab": {},
    "colab_type": "code",
    "id": "StNUSL6ZHUWO",
    "outputId": "42ebe8ab-8145-458b-d83f-c1c523aa8662"
   },
   "outputs": [
    {
     "name": "stdout",
     "output_type": "stream",
     "text": [
      "Mean Absolute Error: 18.016666666666666\n",
      "Mean Squared Error: 569.05\n",
      "Root Mean Squared Error: 23.854768915250467\n"
     ]
    }
   ],
   "source": [
    "print('Mean Absolute Error:', metrics.mean_absolute_error(y_test, y_pred))\n",
    "print('Mean Squared Error:', metrics.mean_squared_error(y_test, y_pred))\n",
    "print('Root Mean Squared Error:', np.sqrt(metrics.mean_squared_error(y_test, y_pred)))"
   ]
  },
  {
   "cell_type": "code",
   "execution_count": null,
   "metadata": {
    "colab": {},
    "colab_type": "code",
    "id": "wgVe_6tXHUWe"
   },
   "outputs": [],
   "source": []
  },
  {
   "cell_type": "code",
   "execution_count": null,
   "metadata": {
    "colab": {},
    "colab_type": "code",
    "id": "OeSk8vW5HUWr"
   },
   "outputs": [],
   "source": []
  },
  {
   "cell_type": "code",
   "execution_count": null,
   "metadata": {
    "colab": {},
    "colab_type": "code",
    "id": "GYSlW262HUW5"
   },
   "outputs": [],
   "source": []
  },
  {
   "cell_type": "code",
   "execution_count": null,
   "metadata": {
    "colab": {},
    "colab_type": "code",
    "id": "4if96Dg_HUXR"
   },
   "outputs": [],
   "source": []
  },
  {
   "cell_type": "code",
   "execution_count": null,
   "metadata": {
    "colab": {},
    "colab_type": "code",
    "id": "i-eBRF-3HUXe"
   },
   "outputs": [],
   "source": [
    "import matplotlib.pyplot as plt\n",
    "import random"
   ]
  },
  {
   "cell_type": "code",
   "execution_count": null,
   "metadata": {
    "colab": {},
    "colab_type": "code",
    "id": "ww0H59tfHUXv"
   },
   "outputs": [],
   "source": [
    "from sklearn.linear_model import LinearRegression\n",
    "from sklearn.ensemble import RandomForestRegressor\n",
    "from sklearn.model_selection import GridSearchCV,train_test_split\n",
    "from sklearn.metrics import mean_absolute_error"
   ]
  },
  {
   "cell_type": "code",
   "execution_count": null,
   "metadata": {
    "colab": {},
    "colab_type": "code",
    "id": "38tTUyoTHUX-",
    "outputId": "e0a75018-5516-4fe0-a9f4-5b9c351c61f2"
   },
   "outputs": [
    {
     "data": {
      "text/html": [
       "<div>\n",
       "<style scoped>\n",
       "    .dataframe tbody tr th:only-of-type {\n",
       "        vertical-align: middle;\n",
       "    }\n",
       "\n",
       "    .dataframe tbody tr th {\n",
       "        vertical-align: top;\n",
       "    }\n",
       "\n",
       "    .dataframe thead th {\n",
       "        text-align: right;\n",
       "    }\n",
       "</style>\n",
       "<table border=\"1\" class=\"dataframe\">\n",
       "  <thead>\n",
       "    <tr style=\"text-align: right;\">\n",
       "      <th></th>\n",
       "      <th>NIRF Rank</th>\n",
       "      <th>institute_id</th>\n",
       "      <th>College Name</th>\n",
       "      <th>City</th>\n",
       "      <th>State/UT</th>\n",
       "      <th>Latitude</th>\n",
       "      <th>Longitude</th>\n",
       "      <th>score</th>\n",
       "      <th>link</th>\n",
       "      <th>Mode of Admission</th>\n",
       "      <th>...</th>\n",
       "      <th>No. of first year students intake in the year</th>\n",
       "      <th>No. of first year students admitted the year</th>\n",
       "      <th>Academic Year in</th>\n",
       "      <th>No. of students admitted through Lateral entry</th>\n",
       "      <th>Academic Year.1</th>\n",
       "      <th>No. of students graduating in minimum stipulated time</th>\n",
       "      <th>No. of students placed</th>\n",
       "      <th>Median salary of placed graduates(Amount Rs.)</th>\n",
       "      <th>No. of students selected for Higher in Studies</th>\n",
       "      <th>faltu column</th>\n",
       "    </tr>\n",
       "  </thead>\n",
       "  <tbody>\n",
       "    <tr>\n",
       "      <td>0</td>\n",
       "      <td>170</td>\n",
       "      <td>IR-E-C-19706</td>\n",
       "      <td>Institute of Aeronautical Engineering</td>\n",
       "      <td>Hyderabad</td>\n",
       "      <td>Telangana</td>\n",
       "      <td>17.599927</td>\n",
       "      <td>78.417725</td>\n",
       "      <td>32.26</td>\n",
       "      <td>https://nirfcdn.azureedge.net/2020/pdf/Enginee...</td>\n",
       "      <td>JEE Advanced</td>\n",
       "      <td>...</td>\n",
       "      <td>960</td>\n",
       "      <td>867</td>\n",
       "      <td>2016-17</td>\n",
       "      <td>129</td>\n",
       "      <td>2018-19</td>\n",
       "      <td>862</td>\n",
       "      <td>440</td>\n",
       "      <td>337000</td>\n",
       "      <td>171</td>\n",
       "      <td>0.462298</td>\n",
       "    </tr>\n",
       "    <tr>\n",
       "      <td>1</td>\n",
       "      <td>175</td>\n",
       "      <td>IR-E-C-1438</td>\n",
       "      <td>The National Institute of Engineering</td>\n",
       "      <td>Mysore</td>\n",
       "      <td>Karnataka</td>\n",
       "      <td>12.284029</td>\n",
       "      <td>76.641147</td>\n",
       "      <td>32.17</td>\n",
       "      <td>https://nirfcdn.azureedge.net/2020/pdf/Enginee...</td>\n",
       "      <td>JEE Mains</td>\n",
       "      <td>...</td>\n",
       "      <td>780</td>\n",
       "      <td>801</td>\n",
       "      <td>2016-17</td>\n",
       "      <td>153</td>\n",
       "      <td>2018-19</td>\n",
       "      <td>784</td>\n",
       "      <td>570</td>\n",
       "      <td>423000</td>\n",
       "      <td>81</td>\n",
       "      <td>0.838771</td>\n",
       "    </tr>\n",
       "    <tr>\n",
       "      <td>2</td>\n",
       "      <td>148</td>\n",
       "      <td>IR-E-C-43264</td>\n",
       "      <td>National Institute of Foundry and Forge Techno...</td>\n",
       "      <td>Ranchi</td>\n",
       "      <td>Jharkhand</td>\n",
       "      <td>23.294140</td>\n",
       "      <td>85.310252</td>\n",
       "      <td>33.57</td>\n",
       "      <td>https://nirfcdn.azureedge.net/2020/pdf/Enginee...</td>\n",
       "      <td>JEE Mains</td>\n",
       "      <td>...</td>\n",
       "      <td>139</td>\n",
       "      <td>124</td>\n",
       "      <td>2016-17</td>\n",
       "      <td>0</td>\n",
       "      <td>2018-19</td>\n",
       "      <td>111</td>\n",
       "      <td>106</td>\n",
       "      <td>450000</td>\n",
       "      <td>5</td>\n",
       "      <td>0.417074</td>\n",
       "    </tr>\n",
       "    <tr>\n",
       "      <td>3</td>\n",
       "      <td>145</td>\n",
       "      <td>IR-E-U-0685</td>\n",
       "      <td>Indira Gandhi Delhi Technical University for W...</td>\n",
       "      <td>Delhi</td>\n",
       "      <td>Delhi</td>\n",
       "      <td>28.665259</td>\n",
       "      <td>77.232393</td>\n",
       "      <td>33.67</td>\n",
       "      <td>https://nirfcdn.azureedge.net/2020/pdf/Enginee...</td>\n",
       "      <td>JEE Mains</td>\n",
       "      <td>...</td>\n",
       "      <td>296</td>\n",
       "      <td>296</td>\n",
       "      <td>2016-17</td>\n",
       "      <td>0</td>\n",
       "      <td>2018-19</td>\n",
       "      <td>257</td>\n",
       "      <td>210</td>\n",
       "      <td>850000</td>\n",
       "      <td>32</td>\n",
       "      <td>0.484717</td>\n",
       "    </tr>\n",
       "    <tr>\n",
       "      <td>4</td>\n",
       "      <td>183</td>\n",
       "      <td>IR-E-U-0739</td>\n",
       "      <td>Madan Mohan Malaviya University of Technology</td>\n",
       "      <td>Gorakhpur</td>\n",
       "      <td>Uttar Pradesh</td>\n",
       "      <td>26.731430</td>\n",
       "      <td>83.433180</td>\n",
       "      <td>31.60</td>\n",
       "      <td>https://nirfcdn.azureedge.net/2020/pdf/Enginee...</td>\n",
       "      <td>JEE Mains</td>\n",
       "      <td>...</td>\n",
       "      <td>600</td>\n",
       "      <td>639</td>\n",
       "      <td>2016-17</td>\n",
       "      <td>159</td>\n",
       "      <td>2018-19</td>\n",
       "      <td>712</td>\n",
       "      <td>132</td>\n",
       "      <td>360000</td>\n",
       "      <td>72</td>\n",
       "      <td>0.969950</td>\n",
       "    </tr>\n",
       "    <tr>\n",
       "      <td>5</td>\n",
       "      <td>20</td>\n",
       "      <td>IR-E-U-0436</td>\n",
       "      <td>Amrita School of Engineering</td>\n",
       "      <td>Amritapuri</td>\n",
       "      <td>Kerala</td>\n",
       "      <td>34.367641</td>\n",
       "      <td>-89.539148</td>\n",
       "      <td>57.37</td>\n",
       "      <td>https://nirfcdn.azureedge.net/2020/pdf/Enginee...</td>\n",
       "      <td>AEEE</td>\n",
       "      <td>...</td>\n",
       "      <td>2040</td>\n",
       "      <td>2150</td>\n",
       "      <td>2016-17</td>\n",
       "      <td>0</td>\n",
       "      <td>2018-19</td>\n",
       "      <td>1768</td>\n",
       "      <td>1199</td>\n",
       "      <td>400000</td>\n",
       "      <td>343</td>\n",
       "      <td>0.343388</td>\n",
       "    </tr>\n",
       "    <tr>\n",
       "      <td>6</td>\n",
       "      <td>135</td>\n",
       "      <td>IR-E-C-37065</td>\n",
       "      <td>Kongu Engineering College</td>\n",
       "      <td>Perundurai</td>\n",
       "      <td>Tamil Nadu</td>\n",
       "      <td>11.274163</td>\n",
       "      <td>77.607027</td>\n",
       "      <td>34.45</td>\n",
       "      <td>https://nirfcdn.azureedge.net/2020/pdf/Enginee...</td>\n",
       "      <td>TNEA</td>\n",
       "      <td>...</td>\n",
       "      <td>1680</td>\n",
       "      <td>1617</td>\n",
       "      <td>2016-17</td>\n",
       "      <td>261</td>\n",
       "      <td>2018-19</td>\n",
       "      <td>1483</td>\n",
       "      <td>1167</td>\n",
       "      <td>300000</td>\n",
       "      <td>132</td>\n",
       "      <td>0.125507</td>\n",
       "    </tr>\n",
       "    <tr>\n",
       "      <td>7</td>\n",
       "      <td>15</td>\n",
       "      <td>IR-E-U-0490</td>\n",
       "      <td>Vellore Institute of Technology</td>\n",
       "      <td>Vellore</td>\n",
       "      <td>Tamil Nadu</td>\n",
       "      <td>12.971743</td>\n",
       "      <td>79.159417</td>\n",
       "      <td>59.32</td>\n",
       "      <td>https://nirfcdn.azureedge.net/2020/pdf/Enginee...</td>\n",
       "      <td>VITEEE</td>\n",
       "      <td>...</td>\n",
       "      <td>6220</td>\n",
       "      <td>5117</td>\n",
       "      <td>2016-17</td>\n",
       "      <td>0</td>\n",
       "      <td>2018-19</td>\n",
       "      <td>4666</td>\n",
       "      <td>2968</td>\n",
       "      <td>550000</td>\n",
       "      <td>897</td>\n",
       "      <td>0.715853</td>\n",
       "    </tr>\n",
       "    <tr>\n",
       "      <td>8</td>\n",
       "      <td>192</td>\n",
       "      <td>IR-E-C-16476</td>\n",
       "      <td>Sri Sai Ram Institute of Technology</td>\n",
       "      <td>Chennai</td>\n",
       "      <td>Tamil Nadu</td>\n",
       "      <td>12.960647</td>\n",
       "      <td>80.053232</td>\n",
       "      <td>31.32</td>\n",
       "      <td>https://nirfcdn.azureedge.net/2020/pdf/Enginee...</td>\n",
       "      <td>TNEA</td>\n",
       "      <td>...</td>\n",
       "      <td>720</td>\n",
       "      <td>694</td>\n",
       "      <td>2016-17</td>\n",
       "      <td>20</td>\n",
       "      <td>2018-19</td>\n",
       "      <td>649</td>\n",
       "      <td>553</td>\n",
       "      <td>335000</td>\n",
       "      <td>26</td>\n",
       "      <td>0.400809</td>\n",
       "    </tr>\n",
       "    <tr>\n",
       "      <td>9</td>\n",
       "      <td>120</td>\n",
       "      <td>IR-E-U-0175</td>\n",
       "      <td>YMCA University of Science and Technology</td>\n",
       "      <td>Faridabad</td>\n",
       "      <td>Haryana</td>\n",
       "      <td>28.367436</td>\n",
       "      <td>77.315811</td>\n",
       "      <td>35.91</td>\n",
       "      <td>https://nirfcdn.azureedge.net/2020/pdf/Enginee...</td>\n",
       "      <td>JEE Mains</td>\n",
       "      <td>...</td>\n",
       "      <td>420</td>\n",
       "      <td>420</td>\n",
       "      <td>2016-17</td>\n",
       "      <td>131</td>\n",
       "      <td>2018-19</td>\n",
       "      <td>425</td>\n",
       "      <td>381</td>\n",
       "      <td>350000</td>\n",
       "      <td>19</td>\n",
       "      <td>0.555259</td>\n",
       "    </tr>\n",
       "  </tbody>\n",
       "</table>\n",
       "<p>10 rows × 33 columns</p>\n",
       "</div>"
      ],
      "text/plain": [
       "   NIRF Rank  institute_id                                       College Name  \\\n",
       "0        170  IR-E-C-19706              Institute of Aeronautical Engineering   \n",
       "1        175   IR-E-C-1438              The National Institute of Engineering   \n",
       "2        148  IR-E-C-43264  National Institute of Foundry and Forge Techno...   \n",
       "3        145   IR-E-U-0685  Indira Gandhi Delhi Technical University for W...   \n",
       "4        183   IR-E-U-0739      Madan Mohan Malaviya University of Technology   \n",
       "5         20   IR-E-U-0436                       Amrita School of Engineering   \n",
       "6        135  IR-E-C-37065                          Kongu Engineering College   \n",
       "7         15   IR-E-U-0490                    Vellore Institute of Technology   \n",
       "8        192  IR-E-C-16476                Sri Sai Ram Institute of Technology   \n",
       "9        120   IR-E-U-0175          YMCA University of Science and Technology   \n",
       "\n",
       "         City       State/UT   Latitude  Longitude  score  \\\n",
       "0   Hyderabad      Telangana  17.599927  78.417725  32.26   \n",
       "1      Mysore      Karnataka  12.284029  76.641147  32.17   \n",
       "2      Ranchi      Jharkhand  23.294140  85.310252  33.57   \n",
       "3       Delhi          Delhi  28.665259  77.232393  33.67   \n",
       "4   Gorakhpur  Uttar Pradesh  26.731430  83.433180  31.60   \n",
       "5  Amritapuri         Kerala  34.367641 -89.539148  57.37   \n",
       "6  Perundurai     Tamil Nadu  11.274163  77.607027  34.45   \n",
       "7     Vellore     Tamil Nadu  12.971743  79.159417  59.32   \n",
       "8     Chennai     Tamil Nadu  12.960647  80.053232  31.32   \n",
       "9   Faridabad        Haryana  28.367436  77.315811  35.91   \n",
       "\n",
       "                                                link Mode of Admission  ...  \\\n",
       "0  https://nirfcdn.azureedge.net/2020/pdf/Enginee...      JEE Advanced  ...   \n",
       "1  https://nirfcdn.azureedge.net/2020/pdf/Enginee...         JEE Mains  ...   \n",
       "2  https://nirfcdn.azureedge.net/2020/pdf/Enginee...         JEE Mains  ...   \n",
       "3  https://nirfcdn.azureedge.net/2020/pdf/Enginee...         JEE Mains  ...   \n",
       "4  https://nirfcdn.azureedge.net/2020/pdf/Enginee...         JEE Mains  ...   \n",
       "5  https://nirfcdn.azureedge.net/2020/pdf/Enginee...              AEEE  ...   \n",
       "6  https://nirfcdn.azureedge.net/2020/pdf/Enginee...              TNEA  ...   \n",
       "7  https://nirfcdn.azureedge.net/2020/pdf/Enginee...            VITEEE  ...   \n",
       "8  https://nirfcdn.azureedge.net/2020/pdf/Enginee...              TNEA  ...   \n",
       "9  https://nirfcdn.azureedge.net/2020/pdf/Enginee...         JEE Mains  ...   \n",
       "\n",
       "  No. of first year students intake in the year  \\\n",
       "0                                           960   \n",
       "1                                           780   \n",
       "2                                           139   \n",
       "3                                           296   \n",
       "4                                           600   \n",
       "5                                          2040   \n",
       "6                                          1680   \n",
       "7                                          6220   \n",
       "8                                           720   \n",
       "9                                           420   \n",
       "\n",
       "  No. of first year students admitted the year  Academic Year in  \\\n",
       "0                                          867           2016-17   \n",
       "1                                          801           2016-17   \n",
       "2                                          124           2016-17   \n",
       "3                                          296           2016-17   \n",
       "4                                          639           2016-17   \n",
       "5                                         2150           2016-17   \n",
       "6                                         1617           2016-17   \n",
       "7                                         5117           2016-17   \n",
       "8                                          694           2016-17   \n",
       "9                                          420           2016-17   \n",
       "\n",
       "   No. of students admitted through Lateral entry  Academic Year.1  \\\n",
       "0                                             129          2018-19   \n",
       "1                                             153          2018-19   \n",
       "2                                               0          2018-19   \n",
       "3                                               0          2018-19   \n",
       "4                                             159          2018-19   \n",
       "5                                               0          2018-19   \n",
       "6                                             261          2018-19   \n",
       "7                                               0          2018-19   \n",
       "8                                              20          2018-19   \n",
       "9                                             131          2018-19   \n",
       "\n",
       "   No. of students graduating in minimum stipulated time  \\\n",
       "0                                                862       \n",
       "1                                                784       \n",
       "2                                                111       \n",
       "3                                                257       \n",
       "4                                                712       \n",
       "5                                               1768       \n",
       "6                                               1483       \n",
       "7                                               4666       \n",
       "8                                                649       \n",
       "9                                                425       \n",
       "\n",
       "   No. of students placed  Median salary of placed graduates(Amount Rs.)  \\\n",
       "0                     440                                         337000   \n",
       "1                     570                                         423000   \n",
       "2                     106                                         450000   \n",
       "3                     210                                         850000   \n",
       "4                     132                                         360000   \n",
       "5                    1199                                         400000   \n",
       "6                    1167                                         300000   \n",
       "7                    2968                                         550000   \n",
       "8                     553                                         335000   \n",
       "9                     381                                         350000   \n",
       "\n",
       "   No. of students selected for Higher in Studies  faltu column  \n",
       "0                                             171      0.462298  \n",
       "1                                              81      0.838771  \n",
       "2                                               5      0.417074  \n",
       "3                                              32      0.484717  \n",
       "4                                              72      0.969950  \n",
       "5                                             343      0.343388  \n",
       "6                                             132      0.125507  \n",
       "7                                             897      0.715853  \n",
       "8                                              26      0.400809  \n",
       "9                                              19      0.555259  \n",
       "\n",
       "[10 rows x 33 columns]"
      ]
     },
     "execution_count": 61,
     "metadata": {
      "tags": []
     },
     "output_type": "execute_result"
    }
   ],
   "source": [
    "dataset.head(10)"
   ]
  },
  {
   "cell_type": "code",
   "execution_count": null,
   "metadata": {
    "colab": {},
    "colab_type": "code",
    "id": "kI-mXbyLHUYM"
   },
   "outputs": [],
   "source": [
    "classifier = RandomForestRegressor()\n",
    "classifier.fit(X,Y)\n",
    "feature_names = X.columns\n",
    "importance_frame = pd.DataFrame()\n",
    "importance_frame['Features'] = X.columns\n",
    "importance_frame['Importance'] = classifier.feature_importances_\n",
    "importance_frame = importance_frame.sort_values(by=['Importance'],ascending=True)"
   ]
  },
  {
   "cell_type": "code",
   "execution_count": null,
   "metadata": {
    "colab": {},
    "colab_type": "code",
    "id": "evN5KzVZHUYZ",
    "outputId": "61878cfb-9b98-41f6-f75f-bcf63b8d7fc9"
   },
   "outputs": [
    {
     "data": {
      "image/png": "[encoded data removed]",
      "text/plain": [
       "<Figure size 432x288 with 1 Axes>"
      ]
     },
     "metadata": {
      "needs_background": "light",
      "tags": []
     },
     "output_type": "display_data"
    }
   ],
   "source": [
    "plt.barh([1,2,3,4,5], importance_frame['Importance'], align='center', alpha=0.9)\n",
    "plt.yticks([1,2,3,4,5], importance_frame['Features'])\n",
    "plt.xlabel('Importance')\n",
    "plt.title('Feature Importances')\n",
    "plt.show()"
   ]
  },
  {
   "cell_type": "code",
   "execution_count": null,
   "metadata": {
    "colab": {},
    "colab_type": "code",
    "id": "eHJ6u6frHUYo",
    "outputId": "e90eedac-57cd-4110-e6e0-112df272195e"
   },
   "outputs": [
    {
     "name": "stdout",
     "output_type": "stream",
     "text": [
      "Results...\n",
      "DecisionTree : 20.900956915892632\n",
      "Linear Regression : 30.614154694688803\n",
      "RandomForest : 16.791570156877324\n",
      "KNeighbours : 14.124594389456522\n",
      "SVM : 45.01462483352517\n",
      "AdaBoostClassifier : 21.138640358765553\n",
      "GradientBoostingClassifier:  13.488027738939415\n",
      "Lasso:  30.632005507218942\n",
      "Ridge:  30.613707270286802\n",
      "BayesianRidge:  30.489933140139836\n",
      "ElasticNet:  30.593499386681298\n",
      "HuberRegressor:  34.47847597343498\n"
     ]
    }
   ],
   "source": [
    "from sklearn.metrics import accuracy_score\n",
    "from sklearn.tree import DecisionTreeRegressor\n",
    "from sklearn.ensemble import RandomForestRegressor\n",
    "from sklearn.neighbors import KNeighborsRegressor\n",
    "from sklearn.svm import SVR\n",
    "from sklearn.linear_model import LinearRegression\n",
    "from sklearn.ensemble import AdaBoostRegressor\n",
    "from sklearn.ensemble import GradientBoostingRegressor\n",
    "#from xgboost import XGBRegressor\n",
    "#from catboost import CatBoostRegressor\n",
    "from sklearn.linear_model import Lasso,Ridge,BayesianRidge,ElasticNet,HuberRegressor,LinearRegression,LogisticRegression,SGDRegressor\n",
    "from sklearn.metrics import mean_squared_error\n",
    "\n",
    "models = [['DecisionTree :',DecisionTreeRegressor()],\n",
    "           ['Linear Regression :', LinearRegression()],\n",
    "           ['RandomForest :',RandomForestRegressor()],\n",
    "           ['KNeighbours :', KNeighborsRegressor(n_neighbors = 2)],\n",
    "           ['SVM :', SVR()],\n",
    "           ['AdaBoostClassifier :', AdaBoostRegressor()],\n",
    "           ['GradientBoostingClassifier: ', GradientBoostingRegressor()],\n",
    "        \n",
    "           ['Lasso: ', Lasso()],\n",
    "           ['Ridge: ', Ridge()],\n",
    "           ['BayesianRidge: ', BayesianRidge()],\n",
    "           ['ElasticNet: ', ElasticNet()],\n",
    "           ['HuberRegressor: ', HuberRegressor()]]\n",
    "\n",
    "print(\"Results...\")\n",
    "\n",
    "\n",
    "for name,model in models:\n",
    "    model = model\n",
    "    model.fit(x_train, y_train)\n",
    "    predictions = model.predict(x_test)\n",
    "    print(name, (np.sqrt(mean_squared_error(y_test, predictions))))\n"
   ]
  },
  {
   "cell_type": "code",
   "execution_count": null,
   "metadata": {
    "colab": {},
    "colab_type": "code",
    "id": "9WP0bUfDHUZB"
   },
   "outputs": [],
   "source": [
    "from sklearn.preprocessing import StandardScaler \n",
    "sc_x=StandardScaler()\n",
    "x_train=sc_x.fit_transform(x_train)\n",
    "x_test=sc_x.fit_transform(x_test)"
   ]
  },
  {
   "cell_type": "code",
   "execution_count": null,
   "metadata": {
    "colab": {},
    "colab_type": "code",
    "id": "L35rNAo9HUZP"
   },
   "outputs": [],
   "source": [
    "import keras \n",
    "from keras.models import Sequential \n",
    "from keras.layers import Dense "
   ]
  },
  {
   "cell_type": "code",
   "execution_count": null,
   "metadata": {
    "colab": {},
    "colab_type": "code",
    "id": "vRGISlNPHUZf"
   },
   "outputs": [],
   "source": [
    "#pip install tensorflow"
   ]
  },
  {
   "cell_type": "code",
   "execution_count": null,
   "metadata": {
    "colab": {},
    "colab_type": "code",
    "id": "dnQWdPUmHUdd"
   },
   "outputs": [],
   "source": [
    "import tensorflow as tf\n",
    "\n",
    "from keras.models import Sequential\n",
    "from keras.layers import Dense\n",
    "from keras.optimizers import Adam\n",
    "from keras.callbacks import EarlyStopping\n",
    "\n",
    "import pandas as pd\n",
    "\n",
    "import sklearn\n",
    "from sklearn import preprocessing\n",
    "from sklearn.model_selection import train_test_split\n",
    "from sklearn.metrics import r2_score\n",
    "\n",
    "from matplotlib import pyplot as plt\n",
    "%matplotlib inline\n",
    "%config InlineBackend.figure_format='retina'"
   ]
  },
  {
   "cell_type": "markdown",
   "metadata": {
    "colab_type": "text",
    "id": "QK20yotsHUe4"
   },
   "source": [
    "# ANN"
   ]
  },
  {
   "cell_type": "code",
   "execution_count": null,
   "metadata": {
    "colab": {},
    "colab_type": "code",
    "id": "NGhlcaTJHUe8"
   },
   "outputs": [],
   "source": [
    "df = pd.read_csv('project_dataset.csv')"
   ]
  },
  {
   "cell_type": "code",
   "execution_count": null,
   "metadata": {
    "colab": {},
    "colab_type": "code",
    "id": "OPuI-h4BHUfG",
    "outputId": "605fc6ac-1120-4048-bbe7-5d82d109c2f6"
   },
   "outputs": [
    {
     "data": {
      "text/plain": [
       "(200, 31)"
      ]
     },
     "execution_count": 149,
     "metadata": {
      "tags": []
     },
     "output_type": "execute_result"
    }
   ],
   "source": [
    "df.shape"
   ]
  },
  {
   "cell_type": "markdown",
   "metadata": {
    "colab_type": "text",
    "id": "x6W2un6jHUfS"
   },
   "source": []
  },
  {
   "cell_type": "code",
   "execution_count": null,
   "metadata": {
    "colab": {},
    "colab_type": "code",
    "id": "DtGzligYHUfT",
    "outputId": "36b641b2-2d49-4d9c-b7c9-203e92a676e0"
   },
   "outputs": [
    {
     "data": {
      "text/plain": [
       "Index(['NIRF Rank', 'institute_id', 'College Name', 'closing rank', 'City',\n",
       "       'State/UT', 'Latitude', 'Longitude', 'score', 'link',\n",
       "       'Mode of Admission', 'Fees', 'Infrastructure', 'no. of male students',\n",
       "       'no. of female students', 'total students',\n",
       "       'Graduation outcome(max 100)', 'Outreach and inclusivity(max 100)',\n",
       "       'perception [academic peer and employers perception(max 100)]',\n",
       "       'Research, professional practice and collaborative performance(max 100)',\n",
       "       'teaching, learning and resource(max 100)', 'Academic Year',\n",
       "       'No. of first year students intake in the year',\n",
       "       'No. of first year students admitted the year', 'Academic Year in',\n",
       "       'No. of students admitted through Lateral entry', 'Academic Year.1',\n",
       "       'No. of students graduating in minimum stipulated time',\n",
       "       'No. of students placed',\n",
       "       'Median salary of placed graduates(Amount Rs.)',\n",
       "       'No. of students selected for Higher in Studies'],\n",
       "      dtype='object')"
      ]
     },
     "execution_count": 150,
     "metadata": {
      "tags": []
     },
     "output_type": "execute_result"
    }
   ],
   "source": [
    "df.columns"
   ]
  },
  {
   "cell_type": "code",
   "execution_count": null,
   "metadata": {
    "colab": {},
    "colab_type": "code",
    "id": "SiG6bg15HUfc",
    "outputId": "ee426574-6188-428b-bfe7-b8e84e21503b"
   },
   "outputs": [
    {
     "data": {
      "text/html": [
       "<div>\n",
       "<style scoped>\n",
       "    .dataframe tbody tr th:only-of-type {\n",
       "        vertical-align: middle;\n",
       "    }\n",
       "\n",
       "    .dataframe tbody tr th {\n",
       "        vertical-align: top;\n",
       "    }\n",
       "\n",
       "    .dataframe thead th {\n",
       "        text-align: right;\n",
       "    }\n",
       "</style>\n",
       "<table border=\"1\" class=\"dataframe\">\n",
       "  <thead>\n",
       "    <tr style=\"text-align: right;\">\n",
       "      <th></th>\n",
       "      <th>NIRF Rank</th>\n",
       "      <th>closing rank</th>\n",
       "      <th>Latitude</th>\n",
       "      <th>Longitude</th>\n",
       "      <th>score</th>\n",
       "      <th>Fees</th>\n",
       "      <th>Infrastructure</th>\n",
       "      <th>no. of male students</th>\n",
       "      <th>no. of female students</th>\n",
       "      <th>total students</th>\n",
       "      <th>...</th>\n",
       "      <th>perception [academic peer and employers perception(max 100)]</th>\n",
       "      <th>Research, professional practice and collaborative performance(max 100)</th>\n",
       "      <th>teaching, learning and resource(max 100)</th>\n",
       "      <th>No. of first year students intake in the year</th>\n",
       "      <th>No. of first year students admitted the year</th>\n",
       "      <th>No. of students admitted through Lateral entry</th>\n",
       "      <th>No. of students graduating in minimum stipulated time</th>\n",
       "      <th>No. of students placed</th>\n",
       "      <th>Median salary of placed graduates(Amount Rs.)</th>\n",
       "      <th>No. of students selected for Higher in Studies</th>\n",
       "    </tr>\n",
       "  </thead>\n",
       "  <tbody>\n",
       "    <tr>\n",
       "      <td>count</td>\n",
       "      <td>200.000000</td>\n",
       "      <td>2.000000e+02</td>\n",
       "      <td>200.000000</td>\n",
       "      <td>200.000000</td>\n",
       "      <td>200.000000</td>\n",
       "      <td>200.000000</td>\n",
       "      <td>200.000000</td>\n",
       "      <td>200.000000</td>\n",
       "      <td>200.000000</td>\n",
       "      <td>200.000000</td>\n",
       "      <td>...</td>\n",
       "      <td>200.000000</td>\n",
       "      <td>200.000000</td>\n",
       "      <td>200.000000</td>\n",
       "      <td>200.000000</td>\n",
       "      <td>200.000000</td>\n",
       "      <td>200.000000</td>\n",
       "      <td>200.000000</td>\n",
       "      <td>200.00000</td>\n",
       "      <td>2.000000e+02</td>\n",
       "      <td>200.000000</td>\n",
       "    </tr>\n",
       "    <tr>\n",
       "      <td>mean</td>\n",
       "      <td>100.490000</td>\n",
       "      <td>6.425589e+04</td>\n",
       "      <td>20.260253</td>\n",
       "      <td>75.581627</td>\n",
       "      <td>41.758350</td>\n",
       "      <td>6.204900</td>\n",
       "      <td>4.101500</td>\n",
       "      <td>2540.405000</td>\n",
       "      <td>954.505000</td>\n",
       "      <td>3483.470000</td>\n",
       "      <td>...</td>\n",
       "      <td>14.214650</td>\n",
       "      <td>20.307350</td>\n",
       "      <td>59.050150</td>\n",
       "      <td>846.880000</td>\n",
       "      <td>812.055000</td>\n",
       "      <td>72.955000</td>\n",
       "      <td>776.945000</td>\n",
       "      <td>541.25500</td>\n",
       "      <td>5.569061e+05</td>\n",
       "      <td>86.695000</td>\n",
       "    </tr>\n",
       "    <tr>\n",
       "      <td>std</td>\n",
       "      <td>57.870067</td>\n",
       "      <td>1.605074e+05</td>\n",
       "      <td>6.888953</td>\n",
       "      <td>23.902263</td>\n",
       "      <td>11.725059</td>\n",
       "      <td>3.683286</td>\n",
       "      <td>0.465976</td>\n",
       "      <td>2381.195209</td>\n",
       "      <td>977.574087</td>\n",
       "      <td>3120.438593</td>\n",
       "      <td>...</td>\n",
       "      <td>19.262625</td>\n",
       "      <td>19.937026</td>\n",
       "      <td>10.152778</td>\n",
       "      <td>769.306041</td>\n",
       "      <td>724.085042</td>\n",
       "      <td>90.888761</td>\n",
       "      <td>672.794735</td>\n",
       "      <td>506.96459</td>\n",
       "      <td>3.095260e+05</td>\n",
       "      <td>96.033139</td>\n",
       "    </tr>\n",
       "    <tr>\n",
       "      <td>min</td>\n",
       "      <td>1.000000</td>\n",
       "      <td>1.880000e+02</td>\n",
       "      <td>8.545851</td>\n",
       "      <td>-92.021094</td>\n",
       "      <td>31.090000</td>\n",
       "      <td>1.000000</td>\n",
       "      <td>2.300000</td>\n",
       "      <td>0.000000</td>\n",
       "      <td>12.000000</td>\n",
       "      <td>105.000000</td>\n",
       "      <td>...</td>\n",
       "      <td>0.000000</td>\n",
       "      <td>0.460000</td>\n",
       "      <td>35.510000</td>\n",
       "      <td>0.000000</td>\n",
       "      <td>0.000000</td>\n",
       "      <td>0.000000</td>\n",
       "      <td>0.000000</td>\n",
       "      <td>0.00000</td>\n",
       "      <td>0.000000e+00</td>\n",
       "      <td>0.000000</td>\n",
       "    </tr>\n",
       "    <tr>\n",
       "      <td>25%</td>\n",
       "      <td>50.750000</td>\n",
       "      <td>6.940500e+03</td>\n",
       "      <td>13.051490</td>\n",
       "      <td>76.594527</td>\n",
       "      <td>33.522500</td>\n",
       "      <td>3.320000</td>\n",
       "      <td>3.900000</td>\n",
       "      <td>1110.750000</td>\n",
       "      <td>302.250000</td>\n",
       "      <td>1555.250000</td>\n",
       "      <td>...</td>\n",
       "      <td>2.557500</td>\n",
       "      <td>5.397500</td>\n",
       "      <td>52.535000</td>\n",
       "      <td>399.500000</td>\n",
       "      <td>364.750000</td>\n",
       "      <td>0.000000</td>\n",
       "      <td>361.250000</td>\n",
       "      <td>233.00000</td>\n",
       "      <td>3.600000e+05</td>\n",
       "      <td>26.750000</td>\n",
       "    </tr>\n",
       "    <tr>\n",
       "      <td>50%</td>\n",
       "      <td>100.500000</td>\n",
       "      <td>2.262500e+04</td>\n",
       "      <td>19.638665</td>\n",
       "      <td>77.671479</td>\n",
       "      <td>37.560000</td>\n",
       "      <td>5.510000</td>\n",
       "      <td>4.200000</td>\n",
       "      <td>2286.500000</td>\n",
       "      <td>663.500000</td>\n",
       "      <td>3043.000000</td>\n",
       "      <td>...</td>\n",
       "      <td>6.650000</td>\n",
       "      <td>13.350000</td>\n",
       "      <td>57.525000</td>\n",
       "      <td>743.000000</td>\n",
       "      <td>720.000000</td>\n",
       "      <td>41.500000</td>\n",
       "      <td>693.500000</td>\n",
       "      <td>477.00000</td>\n",
       "      <td>4.240000e+05</td>\n",
       "      <td>62.000000</td>\n",
       "    </tr>\n",
       "    <tr>\n",
       "      <td>75%</td>\n",
       "      <td>150.250000</td>\n",
       "      <td>4.600000e+04</td>\n",
       "      <td>26.267202</td>\n",
       "      <td>80.107307</td>\n",
       "      <td>46.775000</td>\n",
       "      <td>8.620000</td>\n",
       "      <td>4.400000</td>\n",
       "      <td>3088.250000</td>\n",
       "      <td>1325.000000</td>\n",
       "      <td>4255.500000</td>\n",
       "      <td>...</td>\n",
       "      <td>17.790000</td>\n",
       "      <td>30.642500</td>\n",
       "      <td>64.392500</td>\n",
       "      <td>1020.000000</td>\n",
       "      <td>988.500000</td>\n",
       "      <td>130.000000</td>\n",
       "      <td>956.250000</td>\n",
       "      <td>693.75000</td>\n",
       "      <td>6.500000e+05</td>\n",
       "      <td>116.500000</td>\n",
       "    </tr>\n",
       "    <tr>\n",
       "      <td>max</td>\n",
       "      <td>200.000000</td>\n",
       "      <td>1.231790e+06</td>\n",
       "      <td>36.078100</td>\n",
       "      <td>93.912680</td>\n",
       "      <td>89.930000</td>\n",
       "      <td>16.000000</td>\n",
       "      <td>5.000000</td>\n",
       "      <td>19206.000000</td>\n",
       "      <td>7256.000000</td>\n",
       "      <td>23144.000000</td>\n",
       "      <td>...</td>\n",
       "      <td>100.000000</td>\n",
       "      <td>96.150000</td>\n",
       "      <td>95.420000</td>\n",
       "      <td>6220.000000</td>\n",
       "      <td>5260.000000</td>\n",
       "      <td>471.000000</td>\n",
       "      <td>4708.000000</td>\n",
       "      <td>4139.00000</td>\n",
       "      <td>2.000000e+06</td>\n",
       "      <td>897.000000</td>\n",
       "    </tr>\n",
       "  </tbody>\n",
       "</table>\n",
       "<p>8 rows × 22 columns</p>\n",
       "</div>"
      ],
      "text/plain": [
       "        NIRF Rank  closing rank    Latitude   Longitude       score  \\\n",
       "count  200.000000  2.000000e+02  200.000000  200.000000  200.000000   \n",
       "mean   100.490000  6.425589e+04   20.260253   75.581627   41.758350   \n",
       "std     57.870067  1.605074e+05    6.888953   23.902263   11.725059   \n",
       "min      1.000000  1.880000e+02    8.545851  -92.021094   31.090000   \n",
       "25%     50.750000  6.940500e+03   13.051490   76.594527   33.522500   \n",
       "50%    100.500000  2.262500e+04   19.638665   77.671479   37.560000   \n",
       "75%    150.250000  4.600000e+04   26.267202   80.107307   46.775000   \n",
       "max    200.000000  1.231790e+06   36.078100   93.912680   89.930000   \n",
       "\n",
       "             Fees  Infrastructure  no. of male students  \\\n",
       "count  200.000000      200.000000            200.000000   \n",
       "mean     6.204900        4.101500           2540.405000   \n",
       "std      3.683286        0.465976           2381.195209   \n",
       "min      1.000000        2.300000              0.000000   \n",
       "25%      3.320000        3.900000           1110.750000   \n",
       "50%      5.510000        4.200000           2286.500000   \n",
       "75%      8.620000        4.400000           3088.250000   \n",
       "max     16.000000        5.000000          19206.000000   \n",
       "\n",
       "       no. of female students  total students  ...  \\\n",
       "count              200.000000      200.000000  ...   \n",
       "mean               954.505000     3483.470000  ...   \n",
       "std                977.574087     3120.438593  ...   \n",
       "min                 12.000000      105.000000  ...   \n",
       "25%                302.250000     1555.250000  ...   \n",
       "50%                663.500000     3043.000000  ...   \n",
       "75%               1325.000000     4255.500000  ...   \n",
       "max               7256.000000    23144.000000  ...   \n",
       "\n",
       "       perception [academic peer and employers perception(max 100)]  \\\n",
       "count                                         200.000000              \n",
       "mean                                           14.214650              \n",
       "std                                            19.262625              \n",
       "min                                             0.000000              \n",
       "25%                                             2.557500              \n",
       "50%                                             6.650000              \n",
       "75%                                            17.790000              \n",
       "max                                           100.000000              \n",
       "\n",
       "       Research, professional practice and collaborative performance(max 100)  \\\n",
       "count                                         200.000000                        \n",
       "mean                                           20.307350                        \n",
       "std                                            19.937026                        \n",
       "min                                             0.460000                        \n",
       "25%                                             5.397500                        \n",
       "50%                                            13.350000                        \n",
       "75%                                            30.642500                        \n",
       "max                                            96.150000                        \n",
       "\n",
       "       teaching, learning and resource(max 100)  \\\n",
       "count                                200.000000   \n",
       "mean                                  59.050150   \n",
       "std                                   10.152778   \n",
       "min                                   35.510000   \n",
       "25%                                   52.535000   \n",
       "50%                                   57.525000   \n",
       "75%                                   64.392500   \n",
       "max                                   95.420000   \n",
       "\n",
       "       No. of first year students intake in the year  \\\n",
       "count                                     200.000000   \n",
       "mean                                      846.880000   \n",
       "std                                       769.306041   \n",
       "min                                         0.000000   \n",
       "25%                                       399.500000   \n",
       "50%                                       743.000000   \n",
       "75%                                      1020.000000   \n",
       "max                                      6220.000000   \n",
       "\n",
       "       No. of first year students admitted the year  \\\n",
       "count                                    200.000000   \n",
       "mean                                     812.055000   \n",
       "std                                      724.085042   \n",
       "min                                        0.000000   \n",
       "25%                                      364.750000   \n",
       "50%                                      720.000000   \n",
       "75%                                      988.500000   \n",
       "max                                     5260.000000   \n",
       "\n",
       "       No. of students admitted through Lateral entry  \\\n",
       "count                                      200.000000   \n",
       "mean                                        72.955000   \n",
       "std                                         90.888761   \n",
       "min                                          0.000000   \n",
       "25%                                          0.000000   \n",
       "50%                                         41.500000   \n",
       "75%                                        130.000000   \n",
       "max                                        471.000000   \n",
       "\n",
       "       No. of students graduating in minimum stipulated time  \\\n",
       "count                                         200.000000       \n",
       "mean                                          776.945000       \n",
       "std                                           672.794735       \n",
       "min                                             0.000000       \n",
       "25%                                           361.250000       \n",
       "50%                                           693.500000       \n",
       "75%                                           956.250000       \n",
       "max                                          4708.000000       \n",
       "\n",
       "       No. of students placed  Median salary of placed graduates(Amount Rs.)  \\\n",
       "count               200.00000                                   2.000000e+02   \n",
       "mean                541.25500                                   5.569061e+05   \n",
       "std                 506.96459                                   3.095260e+05   \n",
       "min                   0.00000                                   0.000000e+00   \n",
       "25%                 233.00000                                   3.600000e+05   \n",
       "50%                 477.00000                                   4.240000e+05   \n",
       "75%                 693.75000                                   6.500000e+05   \n",
       "max                4139.00000                                   2.000000e+06   \n",
       "\n",
       "       No. of students selected for Higher in Studies  \n",
       "count                                      200.000000  \n",
       "mean                                        86.695000  \n",
       "std                                         96.033139  \n",
       "min                                          0.000000  \n",
       "25%                                         26.750000  \n",
       "50%                                         62.000000  \n",
       "75%                                        116.500000  \n",
       "max                                        897.000000  \n",
       "\n",
       "[8 rows x 22 columns]"
      ]
     },
     "execution_count": 151,
     "metadata": {
      "tags": []
     },
     "output_type": "execute_result"
    }
   ],
   "source": [
    "df.describe()"
   ]
  },
  {
   "cell_type": "code",
   "execution_count": null,
   "metadata": {
    "colab": {},
    "colab_type": "code",
    "id": "ILyhqPkgHUfo",
    "outputId": "8646aba9-17db-4f0a-8d74-f9e094d2ccf4"
   },
   "outputs": [
    {
     "name": "stdout",
     "output_type": "stream",
     "text": [
      "<class 'pandas.core.frame.DataFrame'>\n",
      "RangeIndex: 200 entries, 0 to 199\n",
      "Data columns (total 31 columns):\n",
      "NIRF Rank                                                                 200 non-null int64\n",
      "institute_id                                                              200 non-null object\n",
      "College Name                                                              200 non-null object\n",
      "closing rank                                                              200 non-null int64\n",
      "City                                                                      200 non-null object\n",
      "State/UT                                                                  200 non-null object\n",
      "Latitude                                                                  200 non-null float64\n",
      "Longitude                                                                 200 non-null float64\n",
      "score                                                                     200 non-null float64\n",
      "link                                                                      200 non-null object\n",
      "Mode of Admission                                                         200 non-null object\n",
      "Fees                                                                      200 non-null float64\n",
      "Infrastructure                                                            200 non-null float64\n",
      "no. of male students                                                      200 non-null int64\n",
      "no. of female students                                                    200 non-null int64\n",
      "total students                                                            200 non-null int64\n",
      "Graduation outcome(max 100)                                               200 non-null float64\n",
      "Outreach and inclusivity(max 100)                                         200 non-null float64\n",
      "perception [academic peer and employers perception(max 100)]              200 non-null float64\n",
      "Research, professional practice and collaborative performance(max 100)    200 non-null float64\n",
      "teaching, learning and resource(max 100)                                  200 non-null float64\n",
      "Academic Year                                                             200 non-null object\n",
      "No. of first year students intake in the year                             200 non-null int64\n",
      "No. of first year students admitted the year                              200 non-null int64\n",
      "Academic Year in                                                          200 non-null object\n",
      "No. of students admitted through Lateral entry                            200 non-null int64\n",
      "Academic Year.1                                                           200 non-null object\n",
      "No. of students graduating in minimum stipulated time                     200 non-null int64\n",
      "No. of students placed                                                    200 non-null int64\n",
      "Median salary of placed graduates(Amount Rs.)                             200 non-null int64\n",
      "No. of students selected for Higher in Studies                            200 non-null int64\n",
      "dtypes: float64(10), int64(12), object(9)\n",
      "memory usage: 48.6+ KB\n"
     ]
    }
   ],
   "source": [
    "df.info()"
   ]
  },
  {
   "cell_type": "code",
   "execution_count": null,
   "metadata": {
    "colab": {},
    "colab_type": "code",
    "id": "AN9ot2XoHUfw"
   },
   "outputs": [],
   "source": [
    "indevar=[ 'closing rank', 'score', 'Fees', 'Infrastructure', 'no. of male students',\n",
    "       'no. of female students', 'total students',\n",
    "       'Graduation outcome(max 100)', 'Outreach and inclusivity(max 100)',\n",
    "       'perception [academic peer and employers perception(max 100)]',\n",
    "       'Research, professional practice and collaborative performance(max 100)',\n",
    "       'teaching, learning and resource(max 100)',\n",
    "       'No. of first year students intake in the year',\n",
    "       'No. of first year students admitted the year',\n",
    "       'No. of students admitted through Lateral entry', \n",
    "       'No. of students graduating in minimum stipulated time',\n",
    "       'No. of students placed',\n",
    "       'Median salary of placed graduates(Amount Rs.)',\n",
    "       'No. of students selected for Higher in Studies']"
   ]
  },
  {
   "cell_type": "code",
   "execution_count": null,
   "metadata": {
    "colab": {},
    "colab_type": "code",
    "id": "3byQNPrhHUf3"
   },
   "outputs": [],
   "source": [
    "df1=df[indevar]\n",
    "df2=df['NIRF Rank']"
   ]
  },
  {
   "cell_type": "code",
   "execution_count": null,
   "metadata": {
    "colab": {},
    "colab_type": "code",
    "id": "1YUgio_WHUf9"
   },
   "outputs": [],
   "source": [
    "X_train, X_test, y_train, y_test = train_test_split(df1, df2, test_size=0.2,random_state=42)"
   ]
  },
  {
   "cell_type": "code",
   "execution_count": null,
   "metadata": {
    "colab": {},
    "colab_type": "code",
    "id": "fJhvWVNTHUgD"
   },
   "outputs": [],
   "source": [
    "X_train = preprocessing.scale(X_train)\n",
    "\n",
    "X_test = preprocessing.scale(X_test)"
   ]
  },
  {
   "cell_type": "code",
   "execution_count": null,
   "metadata": {
    "colab": {},
    "colab_type": "code",
    "id": "2wpEsu0vHUgU"
   },
   "outputs": [],
   "source": [
    "df.rename(columns = {'closing rank':'closing_rank'}, inplace = True) "
   ]
  },
  {
   "cell_type": "code",
   "execution_count": null,
   "metadata": {
    "colab": {},
    "colab_type": "code",
    "id": "Msyj3RGjHUgb"
   },
   "outputs": [],
   "source": [
    "df['closing_rank'] = df.closing_rank.astype(float)"
   ]
  },
  {
   "cell_type": "code",
   "execution_count": null,
   "metadata": {
    "colab": {},
    "colab_type": "code",
    "id": "ocTPAhQvHUgk",
    "outputId": "5c1dadcf-3a29-44dc-e422-430dc80fc28d"
   },
   "outputs": [
    {
     "data": {
      "text/plain": [
       "(200, 31)"
      ]
     },
     "execution_count": 159,
     "metadata": {
      "tags": []
     },
     "output_type": "execute_result"
    }
   ],
   "source": [
    "df.shape"
   ]
  },
  {
   "cell_type": "code",
   "execution_count": null,
   "metadata": {
    "colab": {},
    "colab_type": "code",
    "id": "4hr_RSCvHUgu",
    "outputId": "2fd39a89-4d1e-4ef9-80b0-7caa5332acb9"
   },
   "outputs": [
    {
     "data": {
      "text/plain": [
       "0         188.0\n",
       "1       19971.0\n",
       "2      439270.0\n",
       "3       25607.0\n",
       "4        6768.0\n",
       "         ...   \n",
       "195     77708.0\n",
       "196     58361.0\n",
       "197     19964.0\n",
       "198       232.0\n",
       "199     62275.0\n",
       "Name: closing_rank, Length: 200, dtype: float64"
      ]
     },
     "execution_count": 160,
     "metadata": {
      "tags": []
     },
     "output_type": "execute_result"
    }
   ],
   "source": [
    "df['closing_rank']"
   ]
  },
  {
   "cell_type": "code",
   "execution_count": null,
   "metadata": {
    "colab": {},
    "colab_type": "code",
    "id": "gri1QvVXHUg1",
    "outputId": "e4c73010-a41b-402b-d165-74b739ce2f32"
   },
   "outputs": [
    {
     "data": {
      "image/png": "[encoded data removed]",
      "text/plain": [
       "<Figure size 432x288 with 1 Axes>"
      ]
     },
     "metadata": {
      "image/png": {
       "height": 248,
       "width": 401
      },
      "needs_background": "light",
      "tags": []
     },
     "output_type": "display_data"
    },
    {
     "data": {
      "image/png": "[encoded data removed]",
      "text/plain": [
       "<Figure size 432x288 with 1 Axes>"
      ]
     },
     "metadata": {
      "image/png": {
       "height": 258,
       "width": 372
      },
      "needs_background": "light",
      "tags": []
     },
     "output_type": "display_data"
    },
    {
     "data": {
      "image/png": "[encoded data removed]",
      "text/plain": [
       "<Figure size 432x288 with 1 Axes>"
      ]
     },
     "metadata": {
      "image/png": {
       "height": 258,
       "width": 362
      },
      "needs_background": "light",
      "tags": []
     },
     "output_type": "display_data"
    }
   ],
   "source": [
    "LR = [100,1000,10000]\n",
    "\n",
    "for i in LR:\n",
    "    #Defines linear regression model and its structure\n",
    "    model = Sequential()\n",
    "    model.add(Dense(1, input_shape=(19,)))\n",
    "    \n",
    "    #Compiles model\n",
    "    model.compile(Adam(lr=i), 'mean_squared_error')\n",
    "    \n",
    "    #Fits model\n",
    "    history = model.fit(X_train, y_train, epochs = 500, validation_split = 0.1,verbose = 0)\n",
    "    history_dict=history.history\n",
    "    \n",
    "    #Plots model's training cost/loss and model's validation split cost/loss\n",
    "    loss_values = history_dict['loss']\n",
    "    val_loss_values=history_dict['val_loss']\n",
    "    plt.figure()\n",
    "    plt.plot(loss_values,'bo',label='training loss')\n",
    "    plt.plot(val_loss_values,'r',label='val training loss')"
   ]
  },
  {
   "cell_type": "code",
   "execution_count": null,
   "metadata": {
    "colab": {},
    "colab_type": "code",
    "id": "xdH1QkvHHUg8",
    "outputId": "4f71f7ec-e02e-4894-f77b-a05f83d52177"
   },
   "outputs": [
    {
     "data": {
      "text/plain": [
       "[<matplotlib.lines.Line2D at 0x2ca1be7fc48>]"
      ]
     },
     "execution_count": 163,
     "metadata": {
      "tags": []
     },
     "output_type": "execute_result"
    },
    {
     "data": {
      "image/png": "[encoded data removed]",
      "text/plain": [
       "<Figure size 432x288 with 1 Axes>"
      ]
     },
     "metadata": {
      "image/png": {
       "height": 258,
       "width": 378
      },
      "needs_background": "light",
      "tags": []
     },
     "output_type": "display_data"
    }
   ],
   "source": [
    "model = Sequential()\n",
    "model.add(Dense(1, input_shape=(19,), activation = 'relu'))\n",
    "model.compile(Adam(lr=1000), 'mean_squared_error')\n",
    "history = model.fit(X_train, y_train, epochs = 500, validation_split = 0.1,verbose = 0)\n",
    "\n",
    "history_dict=history.history\n",
    "loss_values = history_dict['loss']\n",
    "val_loss_values=history_dict['val_loss']\n",
    "plt.plot(loss_values,'bo',label='training loss')\n",
    "plt.plot(val_loss_values,'r',label='training loss val')"
   ]
  },
  {
   "cell_type": "code",
   "execution_count": null,
   "metadata": {
    "colab": {},
    "colab_type": "code",
    "id": "rgSVhVUUHUhC",
    "outputId": "783f531b-1f15-43a5-f6a8-bbe989c94781"
   },
   "outputs": [
    {
     "name": "stdout",
     "output_type": "stream",
     "text": [
      "The R2 score on the Train set is:\t-374.289\n",
      "The R2 score on the Test set is:\t-3.137\n"
     ]
    }
   ],
   "source": [
    "y_train_pred = model.predict(X_train)\n",
    "y_test_pred = model.predict(X_test)\n",
    "\n",
    "# Calculates and prints r2 score of training and testing data\n",
    "print(\"The R2 score on the Train set is:\\t{:0.3f}\".format(r2_score(y_train, y_train_pred)))\n",
    "print(\"The R2 score on the Test set is:\\t{:0.3f}\".format(r2_score(y_test, y_test_pred)))"
   ]
  },
  {
   "cell_type": "code",
   "execution_count": null,
   "metadata": {
    "colab": {},
    "colab_type": "code",
    "id": "tAiK3hViHUhI"
   },
   "outputs": [],
   "source": [
    "model = Sequential()\n",
    "model.add(Dense(13, input_shape=(19,), activation='relu'))\n",
    "model.add(Dense(13, activation='relu'))\n",
    "model.add(Dense(13, activation='relu'))\n",
    "model.add(Dense(13, activation='relu'))\n",
    "model.add(Dense(13, activation='relu'))\n",
    "model.add(Dense(1,))\n",
    "model.compile(Adam(lr=0.003), 'mean_squared_error')"
   ]
  },
  {
   "cell_type": "code",
   "execution_count": null,
   "metadata": {
    "colab": {},
    "colab_type": "code",
    "id": "R3XGOcBfHUhP"
   },
   "outputs": [],
   "source": [
    "history = model.fit(X_train, y_train, epochs = 6000, validation_split = 0.2, verbose = 0)"
   ]
  },
  {
   "cell_type": "code",
   "execution_count": null,
   "metadata": {
    "colab": {},
    "colab_type": "code",
    "id": "CvxFQrk5HUhV",
    "outputId": "623f159b-7378-4524-df3e-8767734dce8e"
   },
   "outputs": [
    {
     "data": {
      "text/plain": [
       "[<matplotlib.lines.Line2D at 0x2ca1d4f6448>]"
      ]
     },
     "execution_count": 167,
     "metadata": {
      "tags": []
     },
     "output_type": "execute_result"
    },
    {
     "data": {
      "image/png": "[encoded data removed]",
      "text/plain": [
       "<Figure size 432x288 with 1 Axes>"
      ]
     },
     "metadata": {
      "image/png": {
       "height": 248,
       "width": 388
      },
      "needs_background": "light",
      "tags": []
     },
     "output_type": "display_data"
    }
   ],
   "source": [
    "history_dict=history.history\n",
    "loss_values = history_dict['loss']\n",
    "val_loss_values=history_dict['val_loss']\n",
    "plt.plot(loss_values,'bo',label='training loss')\n",
    "plt.plot(val_loss_values,'r',label='training loss val')"
   ]
  },
  {
   "cell_type": "code",
   "execution_count": null,
   "metadata": {
    "colab": {},
    "colab_type": "code",
    "id": "9zWFFqdLHUhc",
    "outputId": "435c46c7-d774-4f1f-e4a8-559d1e036ab5"
   },
   "outputs": [
    {
     "name": "stdout",
     "output_type": "stream",
     "text": [
      "Epoch 00155: early stopping\n",
      "The R2 score on the Train set is:\t0.984\n",
      "The R2 score on the Test set is:\t0.939\n"
     ]
    },
    {
     "data": {
      "image/png": "[encoded data removed]",
      "text/plain": [
       "<Figure size 432x288 with 1 Axes>"
      ]
     },
     "metadata": {
      "image/png": {
       "height": 248,
       "width": 394
      },
      "needs_background": "light",
      "tags": []
     },
     "output_type": "display_data"
    }
   ],
   "source": [
    "# Defines \"deep\" model and its structure\n",
    "model = Sequential()\n",
    "model.add(Dense(13, input_shape=(19,), activation='relu'))\n",
    "model.add(Dense(13, activation='relu'))\n",
    "model.add(Dense(13, activation='relu'))\n",
    "model.add(Dense(13, activation='relu'))\n",
    "model.add(Dense(13, activation='relu'))\n",
    "model.add(Dense(1,))\n",
    "model.compile(Adam(lr=0.003), 'mean_squared_error')\n",
    "\n",
    "# Pass several parameters to 'EarlyStopping' function and assigns it to 'earlystopper'\n",
    "earlystopper = EarlyStopping(monitor='val_loss', min_delta=0, patience=15, verbose=1, mode='auto')\n",
    "\n",
    "# Fits model over 2000 iterations with 'earlystopper' callback, and assigns it to history\n",
    "history = model.fit(X_train, y_train, epochs = 2000, validation_split = 0.2,shuffle = True, verbose = 0, \n",
    "                    callbacks = [earlystopper])\n",
    "\n",
    "# Plots 'history'\n",
    "history_dict=history.history\n",
    "loss_values = history_dict['loss']\n",
    "val_loss_values=history_dict['val_loss']\n",
    "plt.plot(loss_values,'bo',label='training loss')\n",
    "plt.plot(val_loss_values,'r',label='training loss val')\n",
    "\n",
    "# Runs model with its current weights on the training and testing data\n",
    "y_train_pred = model.predict(X_train)\n",
    "y_test_pred = model.predict(X_test)\n",
    "\n",
    "# Calculates and prints r2 score of training and testing data\n",
    "print(\"The R2 score on the Train set is:\\t{:0.3f}\".format(r2_score(y_train, y_train_pred)))\n",
    "print(\"The R2 score on the Test set is:\\t{:0.3f}\".format(r2_score(y_test, y_test_pred)))"
   ]
  },
  {
   "cell_type": "code",
   "execution_count": null,
   "metadata": {
    "colab": {},
    "colab_type": "code",
    "id": "Lui61dK_HUhk",
    "outputId": "394b42d5-e6b0-4500-9ab3-9512af709da4"
   },
   "outputs": [
    {
     "data": {
      "image/png": "[encoded data removed]",
      "text/plain": [
       "<Figure size 432x288 with 1 Axes>"
      ]
     },
     "metadata": {
      "image/png": {
       "height": 250,
       "width": 375
      },
      "needs_background": "light",
      "tags": []
     },
     "output_type": "display_data"
    },
    {
     "data": {
      "image/png": "[encoded data removed]",
      "text/plain": [
       "<Figure size 432x288 with 1 Axes>"
      ]
     },
     "metadata": {
      "image/png": {
       "height": 248,
       "width": 372
      },
      "needs_background": "light",
      "tags": []
     },
     "output_type": "display_data"
    }
   ],
   "source": [
    "plt.plot(y_train, y_train_pred,'*r')\n",
    "plt.plot(y_test, y_test_pred, '*g')\n",
    "plt.figure()\n",
    "for i in range(0,140):\n",
    "    plt.plot(i/100,i/100,'*b')"
   ]
  },
  {
   "cell_type": "code",
   "execution_count": null,
   "metadata": {
    "colab": {},
    "colab_type": "code",
    "id": "Dn7CtbEzHUhz"
   },
   "outputs": [],
   "source": []
  },
  {
   "cell_type": "code",
   "execution_count": null,
   "metadata": {
    "colab": {},
    "colab_type": "code",
    "id": "AExckJFpHUh5"
   },
   "outputs": [],
   "source": []
  }
 ],
 "metadata": {
  "colab": {
   "collapsed_sections": [
    "2wF9rIEhHUG-",
    "Qrb7lJPEHUL0",
    "VVWn3BHeHUNQ",
    "mj8GQOT9HUOX",
    "A9_1y4RWHURD",
    "AsVkCkE7HUVx",
    "QK20yotsHUe4"
   ],
   "name": "ACM_project (2).ipynb",
   "provenance": []
  },
  "kernelspec": {
   "display_name": "Python 3",
   "language": "python",
   "name": "python3"
  },
  "language_info": {
   "codemirror_mode": {
    "name": "ipython",
    "version": 3
   },
   "file_extension": ".py",
   "mimetype": "text/x-python",
   "name": "python",
   "nbconvert_exporter": "python",
   "pygments_lexer": "ipython3",
   "version": "3.7.4"
  }
 },
 "nbformat": 4,
 "nbformat_minor": 1
}
